{
 "cells": [
  {
   "cell_type": "markdown",
   "metadata": {
    "collapsed": false
   },
   "source": [
    "## SSSP"
   ]
  },
  {
   "cell_type": "code",
   "execution_count": null,
   "metadata": {
    "collapsed": false
   },
   "outputs": [],
   "source": [
    "import math"
   ]
  },
  {
   "cell_type": "code",
   "execution_count": null,
   "metadata": {
    "collapsed": false
   },
   "outputs": [],
   "source": [
    "import math\n",
    "\n",
    "def bellmanFord(G, s): # returns the path π and and whether or not a negative cycle exists\n",
    "    n = len(G)                      # |V|\n",
    "    π = [-1]*n                      # path\n",
    "    g = [math.inf]*n                # cost\n",
    "    g[s] = 0\n",
    "\n",
    "    for _ in range(n-1):            # repetir |V| - 1 veces\n",
    "        for u in range(n):\n",
    "            for v, w in G[u]:       # para cada arco (u, v, con peso w) de E\n",
    "                f = g[u] + w\n",
    "                if f < g[v]:        # relax(u, v, w)\n",
    "                    g[v] = f\n",
    "                    π[v] = u\n",
    "\n",
    "\n",
    "    for u in range(n):              # para cada arco (u, v, con peso w) de E\n",
    "        for v, w in G[u]:\n",
    "            f = g[u] + w\n",
    "            if f < g[v]:            # se puede relajar?\n",
    "                return None         # existe ciclo negativo\n",
    "\n",
    "    return π                        # no existe ciclo negativo"
   ]
  },
  {
   "cell_type": "markdown",
   "metadata": {
    "collapsed": false
   },
   "source": [
    "## [Wormholes](https://onlinejudge.org/external/5/558.pdf)"
   ]
  },
  {
   "cell_type": "code",
   "execution_count": null,
   "metadata": {
    "collapsed": false
   },
   "outputs": [],
   "source": [
    "%%file 1.in\n",
    "2\n",
    "3 3\n",
    "0 1 1000\n",
    "1 2 15\n",
    "2 1 -42\n",
    "4 4\n",
    "0 1 10\n",
    "1 2 20\n",
    "2 3 30\n",
    "3 0 -60"
   ]
  },
  {
   "cell_type": "code",
   "execution_count": null,
   "metadata": {
    "collapsed": false
   },
   "outputs": [],
   "source": [
    "def bellmanFordW(G, s): # returns the path π and and whether or not a negative cycle exists\n",
    "    n = len(G)                      # |V|\n",
    "    path = [-1]*n                      # path\n",
    "    g = [math.inf]*n                # cost\n",
    "    g[s] = 0\n",
    "\n",
    "    for _ in range(n-1):            # repetir |V| - 1 veces\n",
    "        for u in range(n):\n",
    "            for v, w in G[u]:       # para cada arco (u, v, con peso w) de E\n",
    "                f = g[u] + w\n",
    "                if f < g[v]:        # relax(u, v, w)\n",
    "                    g[v] = f\n",
    "                    path[v] = u\n",
    "\n",
    "    for u in range(n):              # para cada arco (u, v, con peso w) de E\n",
    "        for v, w in G[u]:\n",
    "            f = g[u] + w\n",
    "            if f < g[v]:            # se puede relajar?\n",
    "                return None,None,False         # existe ciclo negativo\n",
    "\n",
    "    return path,g,True"
   ]
  },
  {
   "cell_type": "code",
   "execution_count": null,
   "metadata": {
    "collapsed": false
   },
   "outputs": [],
   "source": [
    "with open(\"1.in\") as file:\n",
    "    c = int(file.readline().strip())\n",
    "    for _ in range(c):\n",
    "        n,m = map(int, file.readline().split())\n",
    "        G = [[] for _ in range(n)]\n",
    "        for _ in range(m):\n",
    "            x,y,t = map(int,file.readline().split())\n",
    "            G[x].append((y,t))\n",
    "        _,g,notcycle = bellmanFordW(G,0)\n",
    "        if notcycle:\n",
    "            print(\"not posible\")\n",
    "        else:\n",
    "            print(\"posible\")\n",
    "        print(g)"
   ]
  },
  {
   "cell_type": "markdown",
   "metadata": {
    "collapsed": false
   },
   "source": [
    "## [Ejercicio 2 : XYZZY](https://onlinejudge.org/external/105/10557.pdf)"
   ]
  },
  {
   "cell_type": "code",
   "execution_count": null,
   "metadata": {
    "collapsed": false
   },
   "outputs": [],
   "source": [
    "%%file 2.in\n",
    "5\n",
    "0 1 2\n",
    "-60 1 3\n",
    "-60 1 4\n",
    "20 1 5\n",
    "0 0\n",
    "5\n",
    "0 1 2\n",
    "20 1 3\n",
    "-60 1 4\n",
    "-60 1 5\n",
    "0 0\n",
    "5\n",
    "0 1 2\n",
    "21 1 3\n",
    "-60 1 4\n",
    "-60 1 5\n",
    "0 0\n",
    "5\n",
    "0 1 2\n",
    "20 2 1 3\n",
    "-60 1 4\n",
    "-60 1 5\n",
    "0 0\n",
    "-1"
   ]
  },
  {
   "cell_type": "code",
   "execution_count": null,
   "metadata": {
    "collapsed": false
   },
   "outputs": [],
   "source": [
    "import math\n",
    "def bellmanFordXYZ(G,W,s):\n",
    "    n = len(G)\n",
    "    weights = [math.inf]*n\n",
    "    path = [-1]*n\n",
    "    weights[s] = 100\n",
    "\n",
    "    for _ in range(n-1):\n",
    "        for u in range(n):\n",
    "            for v in G[u]:\n",
    "                d = weights[u] + W[v]\n",
    "                if d < weights[v]:\n",
    "                    weights[v] = d\n",
    "                    path[v] = u\n",
    "    state = False\n",
    "    for i in range(len(weights)-1):\n",
    "        if weights[i] <= 0:\n",
    "            state = True\n",
    "    for u in range(n):\n",
    "        for v in G[u]:\n",
    "            if weights[v] < weights[u] + W[v]:\n",
    "                state = False\n",
    "    return weights,path,state"
   ]
  },
  {
   "cell_type": "code",
   "execution_count": null,
   "metadata": {
    "collapsed": false
   },
   "outputs": [],
   "source": [
    "with open(\"2.in\") as file:\n",
    "    while True:\n",
    "        c = int(file.readline().strip())\n",
    "        if c == -1:\n",
    "            break\n",
    "        G = [[] for _ in range(c)]\n",
    "        W = [-1]*c\n",
    "        for x in range(c):\n",
    "            s = list(map(int,file.readline().split()))\n",
    "            W[x] = s[0]\n",
    "            for i in range(s[1]):\n",
    "                G[x].append(s[i+2]-1)\n",
    "        # print(G)\n",
    "        # print(W)\n",
    "        weigths,path, result = bellmanFordXYZ(G,W,0)\n",
    "        if result:\n",
    "            print(\"hopeless\")\n",
    "        else:\n",
    "            print(\"winnable\")\n",
    "        # print(G)\n",
    "        print(W)\n",
    "        print(weigths)\n",
    "        # print(path)"
   ]
  }
 ],
 "metadata": {
  "kernelspec": {
   "display_name": "Python 3",
   "language": "python",
   "name": "python3"
  },
  "language_info": {
   "codemirror_mode": {
    "name": "ipython",
    "version": 2
   },
   "file_extension": ".py",
   "mimetype": "text/x-python",
   "name": "python",
   "nbconvert_exporter": "python",
   "pygments_lexer": "ipython2",
   "version": "2.7.6"
  }
 },
 "nbformat": 4,
 "nbformat_minor": 0
}
