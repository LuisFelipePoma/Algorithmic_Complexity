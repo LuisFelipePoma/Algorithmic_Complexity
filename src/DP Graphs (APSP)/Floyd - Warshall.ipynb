{
 "cells": [
  {
   "cell_type": "markdown",
   "metadata": {
    "collapsed": false
   },
   "source": [
    "## APSP (All Pairs Shortest Path)"
   ]
  },
  {
   "cell_type": "code",
   "execution_count": null,
   "metadata": {
    "collapsed": false
   },
   "outputs": [],
   "source": [
    "## Halla todos los caminos posibles del grafo"
   ]
  },
  {
   "cell_type": "code",
   "execution_count": null,
   "metadata": {
    "collapsed": false
   },
   "outputs": [],
   "source": [
    "# !git clone https://github.com/lmcanavals/acomplex.git"
   ]
  },
  {
   "cell_type": "code",
   "execution_count": null,
   "metadata": {
    "collapsed": false
   },
   "outputs": [],
   "source": [
    "from acomplex.graphstuff import adjlShow\n",
    "import numpy as np\n",
    "import math"
   ]
  },
  {
   "cell_type": "code",
   "execution_count": null,
   "metadata": {
    "collapsed": false
   },
   "outputs": [],
   "source": [
    "def floydWarshall(G):\n",
    "    n = len(G)\n",
    "    cost = np.full((n, n), math.inf)\n",
    "    path = np.full((n, n), -1, dtype=int)\n",
    "\n",
    "    for u in range(n):\n",
    "        for v, w in G[u]:\n",
    "            cost[u, v] = w\n",
    "            path[u, v] = u\n",
    "\n",
    "    for k in range(n):\n",
    "        for i in range(n):\n",
    "            for j in range(n):\n",
    "                if i != j and j != k and k != i:\n",
    "                    f = cost[i, k] + cost[k, j]\n",
    "                    if f < cost[i, j]:\n",
    "                        cost[i, j] = f\n",
    "                        path[i, j] = path[k, j]\n",
    "\n",
    "    return cost, path"
   ]
  },
  {
   "cell_type": "code",
   "execution_count": null,
   "metadata": {
    "collapsed": false
   },
   "outputs": [],
   "source": [
    "%%file 3.in\n",
    "3 3 4 9\n",
    "0 9 2 2 6 4\n",
    "1 4 5 6\n",
    "-\n",
    "6 8\n",
    "1 1 3 9\n",
    "5 3 7 1\n",
    "6 3"
   ]
  },
  {
   "cell_type": "code",
   "execution_count": null,
   "metadata": {
    "collapsed": false
   },
   "outputs": [],
   "source": [
    "with open(\"1201a.al\") as f:\n",
    "  G = []\n",
    "  for line in f:\n",
    "    if line == '-\\n':\n",
    "      G.append([])\n",
    "    else:\n",
    "      nums = [int(x) for x in line.split()]\n",
    "      G.append([(nums[i], nums[i+1]) for i in range(0, len(nums), 2)])\n",
    "\n",
    "  for x in G:\n",
    "    print(x)"
   ]
  },
  {
   "cell_type": "code",
   "execution_count": null,
   "metadata": {
    "collapsed": false
   },
   "outputs": [],
   "source": [
    "%%file 3.in\n",
    "1 6 3 1 4 9\n",
    "0 6 2 3 3 4 5 8 6 3\n",
    "1 3 5 6 6 4\n",
    "0 1 1 4 7 1\n",
    "0 9 6 3\n",
    "1 8 2 6 6 3\n",
    "1 3 2 4 4 3 5 3 7 3\n",
    "3 1 6 3"
   ]
  },
  {
   "cell_type": "code",
   "execution_count": null,
   "metadata": {
    "collapsed": false
   },
   "outputs": [],
   "source": [
    "with open(\"3.in\") as f:\n",
    "  G = []\n",
    "  for line in f:\n",
    "    nums = [int(x) for x in line.split()]\n",
    "    G.append([])\n",
    "    for i in range(0, len(nums), 2):\n",
    "      G[-1].append((nums[i], nums[i+1]))\n",
    "\n",
    "for x in G:\n",
    "  print(x)"
   ]
  },
  {
   "cell_type": "code",
   "execution_count": null,
   "metadata": {
    "collapsed": false
   },
   "outputs": [],
   "source": [
    "cost, path = floydWarshall(G)\n",
    "print(cost)\n",
    "print(path)"
   ]
  },
  {
   "cell_type": "code",
   "execution_count": null,
   "metadata": {
    "collapsed": false
   },
   "outputs": [],
   "source": [
    "print(path)\n",
    "print(path[0])\n",
    "adjlShow(G,weighted=True,path=path[0],simplepath=True)"
   ]
  },
  {
   "cell_type": "markdown",
   "metadata": {
    "collapsed": false
   },
   "source": [
    "## [Commandos](https://onlinejudge.org/external/114/11463.pdf)"
   ]
  },
  {
   "cell_type": "code",
   "execution_count": null,
   "metadata": {
    "collapsed": false
   },
   "outputs": [],
   "source": [
    "%%file commandos.in\n",
    "2\n",
    "4\n",
    "3\n",
    "0 1\n",
    "2 1\n",
    "1 3\n",
    "0 3\n",
    "2\n",
    "1\n",
    "0 1\n",
    "1 0"
   ]
  },
  {
   "cell_type": "code",
   "execution_count": null,
   "metadata": {
    "collapsed": false
   },
   "outputs": [],
   "source": [
    "with open(\"commandos.in\") as file:\n",
    "    T = int(file.readline().strip())\n",
    "    for i in range(1,T+1):\n",
    "        N = int(file.readline().strip())\n",
    "        R = int(file.readline().strip())\n",
    "        Graph = [[] for _ in range(N)]\n",
    "        for _ in range(R):\n",
    "            u,v = map(int, file.readline().split())\n",
    "            Graph[u].append((v,1))\n",
    "            Graph[v].append((u,1))\n",
    "\n",
    "        s, d = map(int,file.readline().split())\n",
    "        cost, path = floydWarshall(Graph)\n",
    "        t = -1\n",
    "        v = 0\n",
    "        for u in range(N):\n",
    "            if u != d and u != s:\n",
    "                if cost[s,u] > t and cost[s,u] < math.inf:\n",
    "                    t = cost[s,u]\n",
    "                    v = u\n",
    "        if t == -1:\n",
    "            t = cost[s,d]\n",
    "        elif t + cost[v,d] > cost[s,d]:\n",
    "            t += cost[v,d]\n",
    "        else:\n",
    "            t = cost[s,d]\n",
    "        print(Graph)\n",
    "        print(cost)\n",
    "        print(f\"Case {i}: {t}\")"
   ]
  },
  {
   "cell_type": "code",
   "execution_count": null,
   "metadata": {
    "collapsed": false
   },
   "outputs": [],
   "source": [
    "adjlShow(Graph,weighted=True,simplepath=True)"
   ]
  }
 ],
 "metadata": {
  "kernelspec": {
   "display_name": "Python 3",
   "language": "python",
   "name": "python3"
  },
  "language_info": {
   "codemirror_mode": {
    "name": "ipython",
    "version": 2
   },
   "file_extension": ".py",
   "mimetype": "text/x-python",
   "name": "python",
   "nbconvert_exporter": "python",
   "pygments_lexer": "ipython2",
   "version": "2.7.6"
  }
 },
 "nbformat": 4,
 "nbformat_minor": 0
}
