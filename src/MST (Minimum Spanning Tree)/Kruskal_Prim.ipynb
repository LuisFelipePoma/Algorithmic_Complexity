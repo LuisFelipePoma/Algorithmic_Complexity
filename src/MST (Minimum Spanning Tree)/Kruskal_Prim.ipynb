{
 "cells": [
  {
   "cell_type": "markdown",
   "metadata": {},
   "source": [
    "### Input y librerias\n"
   ]
  },
  {
   "cell_type": "code",
   "execution_count": null,
   "metadata": {
    "collapsed": true
   },
   "outputs": [],
   "source": [
    "from graphstuff import adjlShow\n",
    "from disjointset import DisjointSet\n",
    "import heapq as h\n",
    "import math"
   ]
  },
  {
   "cell_type": "code",
   "execution_count": null,
   "metadata": {},
   "outputs": [],
   "source": [
    "%%file 1001a.al\n",
    "2 9 3 9 4 8\n",
    "2 6 3 1 6 8\n",
    "0 9 1 6 4 4 5 2 6 5\n",
    "0 9 1 1 7 4\n",
    "0 8 2 4 6 1\n",
    "2 2\n",
    "1 8 2 5 4 1\n",
    "3 4"
   ]
  },
  {
   "cell_type": "code",
   "execution_count": null,
   "metadata": {},
   "outputs": [],
   "source": [
    "with open(\"1001a.al\") as f:\n",
    "  G = []\n",
    "  for line in f:\n",
    "    if line == '-\\n':\n",
    "      G.append([])\n",
    "    else:\n",
    "      nums = [int(x) for x in line.split()]\n",
    "      G.append([(nums[i], nums[i+1]) for i in range(0, len(nums), 2)])\n",
    "\n",
    "  for x in G:\n",
    "    print(x)"
   ]
  },
  {
   "cell_type": "code",
   "execution_count": null,
   "metadata": {},
   "outputs": [],
   "source": [
    "adjlShow(G, weighted=True, layout=\"neato\")"
   ]
  },
  {
   "cell_type": "markdown",
   "metadata": {},
   "source": [
    "### Implementando"
   ]
  },
  {
   "cell_type": "markdown",
   "metadata": {},
   "source": [
    "### KRUSKAL\n"
   ]
  },
  {
   "cell_type": "code",
   "execution_count": null,
   "metadata": {},
   "outputs": [],
   "source": [
    "def kruskal(G):\n",
    "    n = len(G)\n",
    "    ds = DisjointSet(n)\n",
    "    edges = [(w, u, v) for u in range(n) for v, w in G[u]]\n",
    "    edges.sort()\n",
    "    T = []\n",
    "    links = 0\n",
    "    for _, u, v in edges:\n",
    "        if not ds.sameset(u, v):\n",
    "            T.append((u, v))\n",
    "            ds.union(u, v)\n",
    "            links += 1\n",
    "        if links == n - 1: break\n",
    "\n",
    "    return T"
   ]
  },
  {
   "cell_type": "code",
   "execution_count": null,
   "metadata": {},
   "outputs": [],
   "source": [
    "path = kruskal(G)\n",
    "print(path)\n",
    "adjlShow(G, weighted=True, path=path,simplepath=False, layout=\"neato\")"
   ]
  },
  {
   "cell_type": "code",
   "execution_count": null,
   "metadata": {},
   "outputs": [],
   "source": [
    "import heapq\n",
    "def krukal2(G): ## CLASE\n",
    "    n = len(G)\n",
    "    edges=[]\n",
    "    for u in range(n):\n",
    "        for v,w in G[u]:\n",
    "            heapq.heappush(edges,(w,u,v))\n",
    "    ds = DisjointSet(n)\n",
    "    cont = 0\n",
    "    T = []\n",
    "    while len(edges) > 0 and cont < n-1:\n",
    "        w,u,v = heapq.heappop(edges)\n",
    "        if not ds.samesets(u,v):\n",
    "            ds.union(u,v)\n",
    "            T.append((u,v,w))\n",
    "    return T"
   ]
  },
  {
   "cell_type": "code",
   "execution_count": null,
   "metadata": {},
   "outputs": [],
   "source": [
    "%%file 1.in \n",
    "1 6 2 1 4 4\n",
    "0 6 2 6 6 9\n",
    "0 1 1 6 4 9\n",
    "5 9 7 3\n",
    "0 4 2 9 6 1 7 9\n",
    "3 9 6 2 7 1\n",
    "1 9 4 1 5 2 7 5\n",
    "3 3 4 9 5 1 6 5"
   ]
  },
  {
   "cell_type": "code",
   "execution_count": null,
   "metadata": {},
   "outputs": [],
   "source": [
    "with open(\"1.in\") as file:\n",
    "    G = []\n",
    "    for line in file:\n",
    "        nums = [int(x) for x in line.split()]\n",
    "        G.append([(nums[i],nums[i+1]) for i in range(0,len(nums),2)])"
   ]
  },
  {
   "cell_type": "code",
   "execution_count": null,
   "metadata": {},
   "outputs": [],
   "source": [
    "print(G)"
   ]
  },
  {
   "cell_type": "markdown",
   "metadata": {},
   "source": [
    "### PRIM"
   ]
  },
  {
   "cell_type": "code",
   "execution_count": null,
   "metadata": {},
   "outputs": [],
   "source": [
    "%%file 1001a.al\n",
    "2 9 3 9 4 8\n",
    "2 6 3 1 6 8\n",
    "0 9 1 6 4 4 5 2 6 5\n",
    "0 9 1 1 7 4\n",
    "0 8 2 4 6 1\n",
    "2 2\n",
    "1 8 2 5 4 1\n",
    "3 4"
   ]
  },
  {
   "cell_type": "code",
   "execution_count": null,
   "metadata": {},
   "outputs": [],
   "source": [
    "def prim(G):\n",
    "    n = len(G)\n",
    "    visited = [False]*n\n",
    "    path = [-1]*n\n",
    "    cost = [math.inf]*n\n",
    "\n",
    "    cost[0] = 0\n",
    "    q = [(0, 0)]\n",
    "    while q:\n",
    "        _, u = h.heappop(q)\n",
    "        if visited[u]: continue\n",
    "        visited[u] = True\n",
    "        for v, w in G[u]:\n",
    "            if not visited[v] and w < cost[v]:\n",
    "                cost[v] = w\n",
    "                path[v] = u\n",
    "                h.heappush(q, (w, v))\n",
    "\n",
    "    return path "
   ]
  },
  {
   "cell_type": "code",
   "execution_count": null,
   "metadata": {},
   "outputs": [],
   "source": [
    "with open(\"1.in\") as f:\n",
    "  G = []\n",
    "  for line in f:\n",
    "    if line == '-\\n':\n",
    "      G.append([])\n",
    "    else:\n",
    "      nums = [int(x) for x in line.split()]\n",
    "      G.append([(nums[i], nums[i+1]) for i in range(0, len(nums), 2)])\n",
    "\n",
    "  for x in G:\n",
    "    print(x)"
   ]
  },
  {
   "cell_type": "code",
   "execution_count": null,
   "metadata": {},
   "outputs": [],
   "source": [
    "path = prim(G)\n",
    "print(path)\n",
    "adjlShow(G, weighted=True, path=path, layout=\"neato\")"
   ]
  }
 ],
 "metadata": {
  "kernelspec": {
   "display_name": "Python 3.9.13 ('base')",
   "language": "python",
   "name": "python3"
  },
  "language_info": {
   "codemirror_mode": {
    "name": "ipython",
    "version": 3
   },
   "file_extension": ".py",
   "mimetype": "text/x-python",
   "name": "python",
   "nbconvert_exporter": "python",
   "pygments_lexer": "ipython3",
   "version": "3.9.13"
  },
  "vscode": {
   "interpreter": {
    "hash": "427b8541cfc07e6fbe7ab4a5298567b1b3022ff2b70fdb07d029f33f0434686a"
   }
  }
 },
 "nbformat": 4,
 "nbformat_minor": 0
}
