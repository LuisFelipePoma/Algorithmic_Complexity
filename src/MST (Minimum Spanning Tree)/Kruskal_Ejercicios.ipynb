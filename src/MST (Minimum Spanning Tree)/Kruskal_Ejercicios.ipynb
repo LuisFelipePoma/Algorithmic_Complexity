{
 "cells": [
  {
   "cell_type": "markdown",
   "metadata": {},
   "source": [
    "## INPUT (DATASET)"
   ]
  },
  {
   "cell_type": "code",
   "execution_count": null,
   "metadata": {},
   "outputs": [],
   "source": [
    "from sklearn.datasets import make_circles\n",
    "import matplotlib.pyplot as plt"
   ]
  },
  {
   "cell_type": "code",
   "execution_count": null,
   "metadata": {},
   "outputs": [],
   "source": [
    "X, y = make_circles(n_samples=100,factor=0.3,noise=0.05,random_state=0)"
   ]
  },
  {
   "cell_type": "code",
   "execution_count": null,
   "metadata": {},
   "outputs": [],
   "source": [
    "plt.subplots(figsize = (14,14))\n",
    "plt.scatter(X[:,0],X[:,1],c=y)"
   ]
  },
  {
   "cell_type": "markdown",
   "metadata": {},
   "source": [
    "## ALGORITMO"
   ]
  },
  {
   "cell_type": "code",
   "execution_count": null,
   "metadata": {},
   "outputs": [],
   "source": [
    "## !curl -O https:/raw.githubusercontent.com/Imcanavals/acomplex/main/disjointset .py\n"
   ]
  },
  {
   "cell_type": "code",
   "execution_count": null,
   "metadata": {},
   "outputs": [],
   "source": [
    "from disjointset import DisjointSet\n",
    "import numpy as np\n",
    "import math"
   ]
  },
  {
   "cell_type": "code",
   "execution_count": null,
   "metadata": {},
   "outputs": [],
   "source": [
    "def kruskal(G,k = 2):\n",
    "    n = len(G)\n",
    "    ds = DisjointSet(n)\n",
    "    edges = [(G[u,v], u, v) for u in range(n) for v in range(n)]\n",
    "    edges.sort()\n",
    "    # T = []\n",
    "    links = 0\n",
    "    for _, u, v in edges:\n",
    "        if not ds.sameset(u, v):\n",
    "            #T.append((u, v))\n",
    "            ds.union(u, v)\n",
    "            links += 1\n",
    "        if links == n - k: break\n",
    "\n",
    "    y_ = np.zeros((n), dtype=int)\n",
    "    unique = set()\n",
    "    for u in range(n):\n",
    "        unique.add(ds.find(u))\n",
    "        y_[u] = ds.find(u)\n",
    "    for i,u in enumerate(unique):\n",
    "        y_[y_== u ] = i\n",
    "    # y_ = [-1]*n\n",
    "    # for u in range(n):\n",
    "    #     y_[u] = ds.find(u)\n",
    "    return y_"
   ]
  },
  {
   "cell_type": "code",
   "execution_count": null,
   "metadata": {
    "collapsed": false
   },
   "outputs": [],
   "source": [
    "print((X[0])-X[1])\n"
   ]
  },
  {
   "cell_type": "code",
   "execution_count": null,
   "metadata": {},
   "outputs": [],
   "source": [
    "def dist(a,b):\n",
    "    s = 0\n",
    "    for x0,x1 in zip(a,b):\n",
    "        s += (x0 - x1)**2\n",
    "    return s**0.5"
   ]
  },
  {
   "cell_type": "code",
   "execution_count": null,
   "metadata": {
    "collapsed": false
   },
   "outputs": [],
   "source": [
    "def kruskal(G,k = 2):\n",
    "    n = len(G)\n",
    "    ds = DisjointSet(n)\n",
    "    edges = [(G[u,v], u, v) for u in range(n) for v in range(n)]\n",
    "    edges.sort()\n",
    "    # T = []\n",
    "    links = 0\n",
    "    for _, u, v in edges:\n",
    "        if not ds.sameset(u, v):\n",
    "            #T.append((u, v))\n",
    "            ds.union(u, v)\n",
    "            links += 1\n",
    "        if links == n - k: break\n",
    "\n",
    "    y_ = np.zeros((n), dtype=int)\n",
    "    unique = set()\n",
    "    for u in range(n):\n",
    "        unique.add(ds.find(u))\n",
    "        y_[u] = ds.find(u)\n",
    "    for i,u in enumerate(unique):\n",
    "        y_[y_== u ] = i\n",
    "    # y_ = [-1]*n\n",
    "    # for u in range(n):\n",
    "    #     y_[u] = ds.find(u)\n",
    "    return y_"
   ]
  },
  {
   "cell_type": "code",
   "execution_count": null,
   "metadata": {},
   "outputs": [],
   "source": [
    "n = len(X)\n",
    "G = np.zeros((n,n))\n",
    "for i in  range(n):\n",
    "    for j in range(n):\n",
    "        if i == j:\n",
    "            G[i,j] = math.inf\n",
    "        else:\n",
    "            G[i,j] = dist(X[i],X[j])\n",
    "print(G)"
   ]
  },
  {
   "cell_type": "code",
   "execution_count": null,
   "metadata": {},
   "outputs": [],
   "source": [
    "y_ = kruskal(G,k=3)\n",
    "print(list(y_))"
   ]
  },
  {
   "cell_type": "code",
   "execution_count": null,
   "metadata": {
    "collapsed": false
   },
   "outputs": [],
   "source": [
    "plt.scatter(X[:,0],X[:,1],c = y_)"
   ]
  }
 ],
 "metadata": {
  "kernelspec": {
   "display_name": "Python 3.9.13 ('base')",
   "language": "python",
   "name": "python3"
  },
  "language_info": {
   "codemirror_mode": {
    "name": "ipython",
    "version": 3
   },
   "file_extension": ".py",
   "mimetype": "text/x-python",
   "name": "python",
   "nbconvert_exporter": "python",
   "pygments_lexer": "ipython3",
   "version": "3.9.13"
  },
  "orig_nbformat": 4,
  "vscode": {
   "interpreter": {
    "hash": "427b8541cfc07e6fbe7ab4a5298567b1b3022ff2b70fdb07d029f33f0434686a"
   }
  }
 },
 "nbformat": 4,
 "nbformat_minor": 2
}
