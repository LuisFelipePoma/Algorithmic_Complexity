{
 "cells": [
  {
   "cell_type": "markdown",
   "source": [
    "# [11504 Dominos](https://onlinejudge.org/external/115/11504.pdf)"
   ],
   "metadata": {
    "collapsed": false
   }
  },
  {
   "cell_type": "code",
   "execution_count": 2,
   "outputs": [],
   "source": [
    "import itertools as it\n",
    "import math"
   ],
   "metadata": {
    "collapsed": false
   }
  },
  {
   "cell_type": "code",
   "execution_count": 3,
   "outputs": [
    {
     "name": "stdout",
     "output_type": "stream",
     "text": [
      "Overwriting 2.in\n"
     ]
    }
   ],
   "source": [
    "%%file 2.in\n",
    "2\n",
    "3 2\n",
    "1 2\n",
    "2 3\n",
    "6 7\n",
    "1 2\n",
    "2 3\n",
    "3 1\n",
    "3 4\n",
    "4 5\n",
    "5 6\n",
    "6 4"
   ],
   "metadata": {
    "collapsed": false
   }
  },
  {
   "cell_type": "markdown",
   "source": [
    "### Implementamos el algoritmo de Kosaraju"
   ],
   "metadata": {
    "collapsed": false
   }
  },
  {
   "cell_type": "code",
   "execution_count": 4,
   "metadata": {
    "collapsed": true
   },
   "outputs": [],
   "source": [
    "def revG(G):\n",
    "    n = len(G)\n",
    "    Grev = [[] for _ in range(n)]\n",
    "    for u in range(n):\n",
    "        for v in G[u]:\n",
    "            Grev[v].append(u)\n",
    "    return Grev"
   ]
  },
  {
   "cell_type": "code",
   "execution_count": 5,
   "outputs": [],
   "source": [
    "def kosaraju(G):\n",
    "\n",
    "    def dfs(g, u, f):\n",
    "        visited[u] = True\n",
    "        for v in g[u]:\n",
    "            if not visited[v]:\n",
    "                dfs(g, v, f)\n",
    "        f.append(u)\n",
    "\n",
    "    n = len(G)\n",
    "    Grev = revG(G)\n",
    "    visited = [False]*n\n",
    "    f = []\n",
    "    for u in range(n):\n",
    "        if not visited[u]:\n",
    "            dfs(Grev, u, f)\n",
    "\n",
    "    visited = [False]*n\n",
    "    cfc = []\n",
    "    while f:\n",
    "        u = f.pop()\n",
    "        if not visited[u]:\n",
    "            ncfc = []\n",
    "            dfs(G, u, ncfc)\n",
    "            cfc.append(ncfc)\n",
    "\n",
    "    return cfc"
   ],
   "metadata": {
    "collapsed": false
   }
  },
  {
   "cell_type": "markdown",
   "source": [
    "### Luego creamos un nuevo grafo a partir del output del algoritmo de kosaraju"
   ],
   "metadata": {
    "collapsed": false
   }
  },
  {
   "cell_type": "code",
   "execution_count": 6,
   "outputs": [],
   "source": [
    "def metagraph(G, cfc):\n",
    "    n = len(cfc)\n",
    "    MG = [[] for _ in range(n)]\n",
    "    for mu, comp in enumerate(cfc):\n",
    "        for u in comp:\n",
    "            for mv, comp2 in enumerate(cfc):\n",
    "                if mv != mu:\n",
    "                    for v in comp2:\n",
    "                        if v in G[u]:\n",
    "                            MG[mu].append(mv)\n",
    "\n",
    "    for u in range(n):\n",
    "        MG[u] = list(set(MG[u]))\n",
    "\n",
    "    return MG"
   ],
   "metadata": {
    "collapsed": false
   }
  },
  {
   "cell_type": "markdown",
   "source": [
    "### Creamos un algoritmo que recorra el nuevo grafo en busca de la menor cantidad de raices"
   ],
   "metadata": {
    "collapsed": false
   }
  },
  {
   "cell_type": "code",
   "execution_count": 7,
   "outputs": [],
   "source": [
    "def solve(vertices, G):\n",
    "    def dfs(u):\n",
    "        visited[u] = True\n",
    "        for v in G[u]:\n",
    "            if not visited[v]:\n",
    "                path[v] = u\n",
    "                dfs(v)\n",
    "\n",
    "    n = len(G)\n",
    "    visited = [False]*n\n",
    "    path = [-1]*n\n",
    "\n",
    "    for u in vertices:\n",
    "        if not visited[u]:\n",
    "            dfs(u)\n",
    "\n",
    "    c = 0\n",
    "    for u in path:\n",
    "        if u < 0:\n",
    "            c += 1\n",
    "\n",
    "    return c"
   ],
   "metadata": {
    "collapsed": false
   }
  },
  {
   "cell_type": "code",
   "execution_count": 8,
   "outputs": [
    {
     "name": "stdout",
     "output_type": "stream",
     "text": [
      "1\n",
      "1\n"
     ]
    }
   ],
   "source": [
    "with open(\"2.in\") as f:\n",
    "    t = int(f.readline())\n",
    "    for _ in range(t):\n",
    "        n, m = map(int, f.readline().split())\n",
    "        G = [[] for _ in range(n)]\n",
    "        for _ in range(m):\n",
    "            i, j =  map(int, f.readline().split())\n",
    "            G[i - 1].append(j - 1)\n",
    "\n",
    "        cfc = kosaraju(G)\n",
    "        MG = metagraph(G, cfc)\n",
    "        n = len(MG)\n",
    "        vertices = [i for i in range(n)]\n",
    "        m = math.inf\n",
    "        for perm in it.permutations(vertices):\n",
    "            x = solve(perm, MG)\n",
    "            if x < m:\n",
    "                m = x\n",
    "        print(m)"
   ],
   "metadata": {
    "collapsed": false
   }
  },
  {
   "cell_type": "markdown",
   "source": [
    "# [10305 Ordering Tasks](https://onlinejudge.org/external/103/10305.pdf)"
   ],
   "metadata": {
    "collapsed": false
   }
  },
  {
   "cell_type": "code",
   "execution_count": 9,
   "outputs": [
    {
     "name": "stdout",
     "output_type": "stream",
     "text": [
      "Overwriting 1.in\n"
     ]
    }
   ],
   "source": [
    "%%file 1.in\n",
    "5 4\n",
    "1 2\n",
    "2 3\n",
    "1 3\n",
    "1 5\n",
    "0 0"
   ],
   "metadata": {
    "collapsed": false
   }
  },
  {
   "cell_type": "code",
   "execution_count": 10,
   "outputs": [],
   "source": [
    "def toposort(G):\n",
    "  n = len(G)\n",
    "  visited = [False]*n\n",
    "  ts = []\n",
    "\n",
    "  def dfs(u):\n",
    "    visited[u] = True\n",
    "    for v in G[u]:\n",
    "      if not visited[v]:\n",
    "        dfs(v)\n",
    "    ts.append(u)\n",
    "\n",
    "  for u in range(n):\n",
    "    if not visited[u]:\n",
    "      dfs(u)\n",
    "\n",
    "  return list(reversed(ts))"
   ],
   "metadata": {
    "collapsed": false
   }
  },
  {
   "cell_type": "code",
   "execution_count": 18,
   "outputs": [
    {
     "name": "stdout",
     "output_type": "stream",
     "text": [
      "[[1, 2, 4], [2], [], [], []]\n",
      "[3, 0, 4, 1, 2]\n",
      "4 1 5 2 3\n"
     ]
    }
   ],
   "source": [
    "with open(\"1.in\") as f:\n",
    "    while True:\n",
    "        n, m = map(int, f.readline().split())\n",
    "        if n == 0:\n",
    "            break\n",
    "        G = [[] for _ in range(n)]\n",
    "        for _ in range(m):\n",
    "            i, j =  map(int, f.readline().split())\n",
    "            G[i - 1].append(j - 1)\n",
    "        print(G)\n",
    "        t = toposort(G)\n",
    "        print(t)\n",
    "        print(*[i + 1 for i in t])"
   ],
   "metadata": {
    "collapsed": false
   }
  }
 ],
 "metadata": {
  "kernelspec": {
   "display_name": "Python 3",
   "language": "python",
   "name": "python3"
  },
  "language_info": {
   "codemirror_mode": {
    "name": "ipython",
    "version": 2
   },
   "file_extension": ".py",
   "mimetype": "text/x-python",
   "name": "python",
   "nbconvert_exporter": "python",
   "pygments_lexer": "ipython2",
   "version": "2.7.6"
  }
 },
 "nbformat": 4,
 "nbformat_minor": 0
}
