{
 "cells": [
  {
   "cell_type": "markdown",
   "source": [
    "## Generar una lista de adjacencia random"
   ],
   "metadata": {
    "collapsed": false
   }
  },
  {
   "cell_type": "code",
   "execution_count": 15,
   "outputs": [],
   "source": [
    "import random\n",
    "import numpy as np"
   ],
   "metadata": {
    "collapsed": false
   }
  },
  {
   "cell_type": "code",
   "execution_count": 16,
   "metadata": {
    "collapsed": true
   },
   "outputs": [],
   "source": [
    "def RandomAL(n, m):\n",
    "    G = [None for _ in range(n)]\n",
    "    numEdges = [0]*n\n",
    "    for _ in range(m):\n",
    "        numEdges[random.randint(0, n - 1)] += 1\n",
    "    vertices = [i for i in range(n)]\n",
    "    random.shuffle(vertices)\n",
    "    for u in range(n):\n",
    "        G[u] = random.sample(vertices, numEdges[u])\n",
    "\n",
    "    return G"
   ]
  },
  {
   "cell_type": "code",
   "execution_count": 17,
   "outputs": [
    {
     "name": "stdout",
     "output_type": "stream",
     "text": [
      "[4, 3]\n",
      "[0]\n",
      "[]\n",
      "[2]\n",
      "[3, 5, 1, 8, 9]\n",
      "[6, 4]\n",
      "[8, 6]\n",
      "[0, 8, 6]\n",
      "[4]\n",
      "[1, 6, 7]\n"
     ]
    }
   ],
   "source": [
    "G = RandomAL(10,20)\n",
    "for l in G:\n",
    "    print(l)"
   ],
   "metadata": {
    "collapsed": false
   }
  },
  {
   "cell_type": "markdown",
   "source": [
    "## Generar una matriz de adjacencia random"
   ],
   "metadata": {
    "collapsed": false
   }
  },
  {
   "cell_type": "code",
   "execution_count": 18,
   "outputs": [],
   "source": [
    "def randomAM(n,m):\n",
    "    G = np.zeros((n*n),dtype=int)\n",
    "    G[:m] = 1\n",
    "    random.shuffle(G)\n",
    "    return G.reshape((n,n))"
   ],
   "metadata": {
    "collapsed": false
   }
  },
  {
   "cell_type": "code",
   "execution_count": 19,
   "outputs": [
    {
     "name": "stdout",
     "output_type": "stream",
     "text": [
      "[[0 0 0 0 0 1 0 1 0 0]\n",
      " [1 1 0 0 0 0 0 0 0 0]\n",
      " [1 0 0 0 1 0 0 0 1 0]\n",
      " [0 1 0 0 0 1 0 0 0 0]\n",
      " [0 0 0 0 0 0 1 0 0 0]\n",
      " [1 0 0 0 0 0 0 0 0 0]\n",
      " [0 0 1 0 0 0 0 0 0 1]\n",
      " [0 0 1 0 0 0 0 0 1 1]\n",
      " [0 0 0 0 0 0 0 1 0 0]\n",
      " [0 0 0 0 0 1 0 0 1 1]]\n"
     ]
    }
   ],
   "source": [
    "M = randomAM(10,20)\n",
    "print(M)"
   ],
   "metadata": {
    "collapsed": false
   }
  },
  {
   "cell_type": "markdown",
   "source": [
    "## Algoritmo Exhaustivo"
   ],
   "metadata": {
    "collapsed": false
   }
  },
  {
   "cell_type": "code",
   "execution_count": 20,
   "outputs": [],
   "source": [
    "def revG(G):\n",
    "    n = len (G)\n",
    "    Grev = [[]for _ in range(n)]\n",
    "    for u in range(n):\n",
    "        for v in G[u]:\n",
    "            Grev[v].append(u)\n",
    "    return Grev"
   ],
   "metadata": {
    "collapsed": false
   }
  },
  {
   "cell_type": "code",
   "execution_count": 21,
   "outputs": [],
   "source": [
    "G = [[2], [0], [1,3],[]]"
   ],
   "metadata": {
    "collapsed": false
   }
  },
  {
   "cell_type": "code",
   "execution_count": 22,
   "outputs": [
    {
     "data": {
      "text/plain": "[[1], [2], [0], [2]]"
     },
     "execution_count": 22,
     "metadata": {},
     "output_type": "execute_result"
    }
   ],
   "source": [
    "revG(G)"
   ],
   "metadata": {
    "collapsed": false
   }
  },
  {
   "cell_type": "code",
   "execution_count": 23,
   "outputs": [],
   "source": [
    "def kosaraju(G):\n",
    "    def dfs(g, u, f):\n",
    "        visited[u]=True\n",
    "        for v in g[u]:\n",
    "            if not visited[v]:\n",
    "                dfs(g, v,f)\n",
    "        f.append(u)\n",
    "\n",
    "    Grev = revG(G)\n",
    "    n = len(G)\n",
    "    visited = [False]*n\n",
    "    f = []\n",
    "    for u in range(n):\n",
    "        if not visited[u]:\n",
    "            dfs(Grev,u,f)\n",
    "    ## Segunda parte\n",
    "    visited = [False]*n\n",
    "    cfc = []\n",
    "    print(f)\n",
    "    while f:\n",
    "        u = f.pop()\n",
    "        if not visited[u]:\n",
    "            ncfc = []\n",
    "            dfs(G,u,ncfc)\n",
    "            cfc.append(ncfc)\n",
    "    return cfc"
   ],
   "metadata": {
    "collapsed": false
   }
  },
  {
   "cell_type": "code",
   "execution_count": 24,
   "outputs": [
    {
     "name": "stdout",
     "output_type": "stream",
     "text": [
      "[2, 1, 0, 3]\n"
     ]
    },
    {
     "data": {
      "text/plain": "[[3], [1, 2, 0]]"
     },
     "execution_count": 24,
     "metadata": {},
     "output_type": "execute_result"
    }
   ],
   "source": [
    "kosaraju(G)"
   ],
   "metadata": {
    "collapsed": false
   }
  }
 ],
 "metadata": {
  "kernelspec": {
   "display_name": "Python 3",
   "language": "python",
   "name": "python3"
  },
  "language_info": {
   "codemirror_mode": {
    "name": "ipython",
    "version": 2
   },
   "file_extension": ".py",
   "mimetype": "text/x-python",
   "name": "python",
   "nbconvert_exporter": "python",
   "pygments_lexer": "ipython2",
   "version": "2.7.6"
  }
 },
 "nbformat": 4,
 "nbformat_minor": 0
}
