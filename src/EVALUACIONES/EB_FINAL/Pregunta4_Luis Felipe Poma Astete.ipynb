{
 "cells": [
  {
   "cell_type": "code",
   "execution_count": null,
   "metadata": {
    "collapsed": true
   },
   "outputs": [],
   "source": [
    "# Importamos las librerias que nos serviran para realizar los calculos más facilmente\n",
    "import math\n",
    "import numpy as np\n",
    "import pandas as pd"
   ]
  },
  {
   "cell_type": "code",
   "execution_count": null,
   "metadata": {
    "collapsed": false
   },
   "outputs": [],
   "source": [
    "# Implementamos una variacion del DFS usual para utilizarlo en el algoritmo de Ford-Fulkerson\n",
    "# Este algoritmo permitira recorrer el grafo y devolver el cuello de botella de cada ruta en nuestro grafo\n",
    "\n",
    "def dfs(G, s, t):\n",
    "    n = len(G)\n",
    "    visited = [False]*n\n",
    "    path = [-1]*n\n",
    "    stack = [s]\n",
    "    while stack:\n",
    "        u = stack.pop()\n",
    "        if u == t:\n",
    "            break\n",
    "        if not visited[u]:\n",
    "            visited[u] = True\n",
    "            for v in reversed(range(n)):\n",
    "                if G[u][v] > 0 and not visited[v]:\n",
    "                    stack.append(v)\n",
    "                    path[v] = u\n",
    "    p = [t]\n",
    "    bottleneck = math.inf\n",
    "    while path[t] != -1:\n",
    "        if G[path[t]][t] < bottleneck:\n",
    "            bottleneck = G[path[t]][t]\n",
    "        t = path[t]\n",
    "        p.append(t)\n",
    "\n",
    "    return p, bottleneck"
   ]
  },
  {
   "cell_type": "code",
   "execution_count": null,
   "metadata": {
    "collapsed": false
   },
   "outputs": [],
   "source": [
    "# Implementamos el algortimo de Ford-Fulkerson enseñado en clases\n",
    "def fordFulkerson(G, s, t):\n",
    "    Gf = np.zeros_like(G)\n",
    "    Gr = G.copy()\n",
    "\n",
    "    while True:\n",
    "        apath, bn = dfs(Gr, s, t)\n",
    "        if bn == math.inf:\n",
    "            break\n",
    "        v = apath[0]\n",
    "        for u in apath[1:]:\n",
    "            Gr[u, v] -= bn\n",
    "            Gr[v, u] += bn\n",
    "            Gf[u, v] += bn\n",
    "            v = u\n",
    "\n",
    "    return Gf"
   ]
  },
  {
   "cell_type": "code",
   "execution_count": null,
   "metadata": {
    "collapsed": false
   },
   "outputs": [],
   "source": [
    "%%file graph.x\n",
    "0 3 2 3 0 0 0 0\n",
    "0 0 0 0 0 0 5 0\n",
    "0 1 0 0 0 1 0 0\n",
    "0 0 2 0 2 0 0 0\n",
    "0 0 0 0 0 0 0 5\n",
    "0 4 0 0 2 0 0 1\n",
    "0 0 0 0 0 2 0 3\n",
    "0 0 0 0 0 0 0 0"
   ]
  },
  {
   "cell_type": "code",
   "execution_count": null,
   "metadata": {
    "collapsed": false
   },
   "outputs": [],
   "source": [
    "# Con ayuda de una de las funciones de Numpy, realizamos la lectura del caso de prueba mas facilmente\n",
    "G = np.loadtxt(\"graph.x\", dtype=int, delimiter=\" \")\n",
    "print(G)"
   ]
  },
  {
   "cell_type": "code",
   "execution_count": null,
   "metadata": {
    "collapsed": false
   },
   "outputs": [],
   "source": [
    "# Llamamos al algoritmo y este nos devuelve una matrix con el flujo maximo para cada ruta\n",
    "# Guardamos la nueva matrix en un variable\n",
    "matrix_solucion = fordFulkerson(G, 0, 7)"
   ]
  },
  {
   "cell_type": "code",
   "execution_count": null,
   "metadata": {
    "collapsed": false
   },
   "outputs": [],
   "source": [
    "# Con el uso de pandas convertimos nuestra matrix a una que pandas pueda utilizar\n",
    "pd_matrix = pd.DataFrame(matrix_solucion)\n",
    "\n",
    "# Ahora con ayuda de sus funcionalidades de pandas podemos obtener el flujo maximo que recibe la ciudad de Arequipa\n",
    "flujo_maximo = pd_matrix[7].sum()\n",
    "\n",
    "# Imprimimos la respuesta en pantalla\n",
    "print(f\"El cantidad maxima de paquetes a ser transportados de Lima a Arequipa es de {flujo_maximo}\")"
   ]
  }
 ],
 "metadata": {
  "kernelspec": {
   "display_name": "Python 3",
   "language": "python",
   "name": "python3"
  },
  "language_info": {
   "codemirror_mode": {
    "name": "ipython",
    "version": 3
   },
   "file_extension": ".py",
   "mimetype": "text/x-python",
   "name": "python",
   "nbconvert_exporter": "python",
   "pygments_lexer": "ipython3",
   "version": "3.11.0"
  },
  "vscode": {
   "interpreter": {
    "hash": "c261aea317cc0286b3b3261fbba9abdec21eaa57589985bb7a274bf54d6cc0a7"
   }
  }
 },
 "nbformat": 4,
 "nbformat_minor": 0
}
