{
 "cells": [
  {
   "cell_type": "code",
   "execution_count": null,
   "metadata": {
    "collapsed": false
   },
   "outputs": [],
   "source": [
    "# Importamos las librerias para poder facilitarnos los calculos\n",
    "import numpy as np\n",
    "import math"
   ]
  },
  {
   "cell_type": "code",
   "execution_count": null,
   "metadata": {
    "collapsed": false
   },
   "outputs": [],
   "source": [
    "# En este caso se implementara el algoritmo de Kruskal que utiliza la estructura de datos UFDS\n",
    "# Utilizamos este algoritmo ya que nos permite agrupar los datos mediante el DisjointSet\n",
    "\n",
    "class DisjointSet:\n",
    "    def __init__(self, n):\n",
    "        self.n = n\n",
    "        self.s = [-1]*n\n",
    "\n",
    "    def find(self, a):\n",
    "        if self.s[a] < 0:\n",
    "            return a\n",
    "        parent = self.find(self.s[a])\n",
    "        self.s[a] = parent\n",
    "        return parent\n",
    "\n",
    "    def sameset(self, a, b):\n",
    "        return self.find(a) == self.find(b)\n",
    "\n",
    "    def union(self, a, b):\n",
    "        if self.sameset(a, b):\n",
    "            return\n",
    "        a = self.find(a)\n",
    "        b = self.find(b)\n",
    "        if -self.s[a] > -self.s[b]:\n",
    "            self.s[a] += self.s[b]\n",
    "            self.s[b] = a\n",
    "        else:\n",
    "            self.s[b] += self.s[a]\n",
    "            self.s[a] = b"
   ]
  },
  {
   "cell_type": "code",
   "execution_count": null,
   "metadata": {
    "collapsed": false
   },
   "outputs": [],
   "source": [
    "# Esta funcion será utilizada para poder hallar la distancia euclidiana entre dos puntos con 3 coordenadas\n",
    "def dist(a,b):\n",
    "    s = 0\n",
    "    for x0,x1 in zip(a,b):\n",
    "        s += (x0 - x1)**2\n",
    "    return s**0.5"
   ]
  },
  {
   "cell_type": "code",
   "execution_count": null,
   "metadata": {
    "collapsed": false
   },
   "outputs": [],
   "source": [
    "# Implementamos el algoritmo de Kruskal enseñado en clases, para este caso no fue necesario realizarle modificaciones\n",
    "def kruskal(G,k):\n",
    "    n = len(G)\n",
    "    ds = DisjointSet(n)\n",
    "    edges = [(G[u,v], u, v) for u in range(n) for v in range(n)]\n",
    "    edges.sort()\n",
    "    links = 0\n",
    "    for _, u, v in edges:\n",
    "        if not ds.sameset(u, v):\n",
    "            ds.union(u, v)\n",
    "            links += 1\n",
    "        if links == n - k: break\n",
    "\n",
    "    y_ = np.zeros((n), dtype=int)\n",
    "    unique = set()\n",
    "    for u in range(n):\n",
    "        unique.add(ds.find(u))\n",
    "        y_[u] = ds.find(u)\n",
    "    for i,u in enumerate(unique):\n",
    "        y_[y_== u ] = i\n",
    "    return y_"
   ]
  },
  {
   "cell_type": "code",
   "execution_count": null,
   "metadata": {
    "collapsed": false
   },
   "outputs": [],
   "source": [
    "%%file graph.in\n",
    "2\n",
    "5\n",
    "1 1 1\n",
    "2 2 2\n",
    "1 2 1\n",
    "4 4 4\n",
    "4 4 3\n",
    "2\n",
    "3\n",
    "1 2 3\n",
    "3 2 1\n",
    "100 200 300\n",
    "2"
   ]
  },
  {
   "cell_type": "code",
   "execution_count": null,
   "metadata": {
    "collapsed": false
   },
   "outputs": [],
   "source": [
    "# Realizamos la lectura de los casos de prueba\n",
    "with open(\"graph.in\") as file:\n",
    "    # Leemos T que son los casos de prueba\n",
    "    T = int(file.readline().strip())\n",
    "\n",
    "    for case in range(T):\n",
    "        # Leemos el número de zonas que existen\n",
    "        N = int(file.readline().strip())\n",
    "\n",
    "        # Creamos listas para poder almacenar las coordenadas\n",
    "        coordenadas = []\n",
    "\n",
    "        # Mediante un 'for' leemos las coordenadas de cada zona\n",
    "        for _ in range(N):\n",
    "            x,y,z = map(int,file.readline().split())\n",
    "            coordenadas.append((x,y,z))\n",
    "\n",
    "        # Leemos el número de grupos\n",
    "        k = int(file.readline().strip())\n",
    "\n",
    "        # Creamos una matriz de zeros para almacenar las distancias de una zona a otra\n",
    "        G = np.zeros((N,N))\n",
    "\n",
    "        # Mediante un doble 'for' asignamos las distancias correspondientes a las zonas en nuestra matriz\n",
    "        for i in  range(N):\n",
    "            for j in range(N):\n",
    "                if i == j:\n",
    "                    G[i,j] = math.inf\n",
    "                else:\n",
    "                    G[i,j] = dist(coordenadas[i],coordenadas[j])\n",
    "\n",
    "        # Obtenemos el número de zonas para cada grupo luego de que el algortimo Kruskal nos devuelva este como dato\n",
    "        # Al algoritmo le pasamos como parametro el Grafo(Matrix) y el número de grupos\n",
    "        zonas = kruskal(G,k)\n",
    "\n",
    "        # Ahora calculamos los numeros de zonas asignados por cada equipo e imprimimos en pantalla\n",
    "        tmp = 0\n",
    "        elem = 0\n",
    "        print(f\"Numero de zonas por sector del caso {case + 1} : \\n\")\n",
    "        for i in zonas:\n",
    "            if elem == i:\n",
    "                tmp= tmp + 1\n",
    "            else:\n",
    "                print(tmp)\n",
    "                tmp = 1\n",
    "                elem = i\n",
    "        print(tmp)\n",
    "        print(\"\\n\")"
   ]
  }
 ],
 "metadata": {
  "kernelspec": {
   "display_name": "Python 3",
   "language": "python",
   "name": "python3"
  },
  "language_info": {
   "codemirror_mode": {
    "name": "ipython",
    "version": 2
   },
   "file_extension": ".py",
   "mimetype": "text/x-python",
   "name": "python",
   "nbconvert_exporter": "python",
   "pygments_lexer": "ipython2",
   "version": "2.7.6"
  }
 },
 "nbformat": 4,
 "nbformat_minor": 0
}
