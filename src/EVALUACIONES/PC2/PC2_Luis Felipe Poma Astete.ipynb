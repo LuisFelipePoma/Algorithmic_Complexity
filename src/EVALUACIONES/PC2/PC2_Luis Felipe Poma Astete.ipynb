{
 "cells": [
  {
   "cell_type": "code",
   "execution_count": 1,
   "metadata": {
    "collapsed": false
   },
   "outputs": [
    {
     "name": "stdout",
     "output_type": "stream",
     "text": [
      "Overwriting 1.in\n"
     ]
    }
   ],
   "source": [
    "%%file 1.in\n",
    "3 1 1 7 2 1\n",
    "0 7 2 6 6 6 5 1 3 3\n",
    "0 1 1 6 6 8\n",
    "0 1 1 3 5 8 7 9\n",
    "6 6\n",
    "1 1 3 8 7 3\n",
    "4 6 2 8 1 6 7 2\n",
    "3 9 5 3 6 2"
   ]
  },
  {
   "cell_type": "code",
   "execution_count": 2,
   "metadata": {
    "collapsed": true
   },
   "outputs": [],
   "source": [
    "import math\n",
    "import heapq as h\n",
    "def prim(G):\n",
    "    n = len(G)\n",
    "    visited = [False]*n\n",
    "    path = [-1]*n\n",
    "    cost = [math.inf]*n\n",
    "\n",
    "    cost[3] = 0\n",
    "    q = [(3, 3)]\n",
    "    while q:\n",
    "        _, u = h.heappop(q)\n",
    "        if visited[u]: continue\n",
    "        visited[u] = True\n",
    "        for v, w in G[u]:\n",
    "            if not visited[v] and w < cost[v]:\n",
    "                cost[v] = w\n",
    "                path[v] = u\n",
    "                h.heappush(q, (w, v))\n",
    "\n",
    "    return path,cost"
   ]
  },
  {
   "cell_type": "code",
   "execution_count": 3,
   "metadata": {
    "collapsed": false
   },
   "outputs": [
    {
     "name": "stdout",
     "output_type": "stream",
     "text": [
      "[(3, 1), (1, 7), (2, 1)]\n",
      "[(0, 7), (2, 6), (6, 6), (5, 1), (3, 3)]\n",
      "[(0, 1), (1, 6), (6, 8)]\n",
      "[(0, 1), (1, 3), (5, 8), (7, 9)]\n",
      "[(6, 6)]\n",
      "[(1, 1), (3, 8), (7, 3)]\n",
      "[(4, 6), (2, 8), (1, 6), (7, 2)]\n",
      "[(3, 9), (5, 3), (6, 2)]\n"
     ]
    }
   ],
   "source": [
    "with open(\"1.in\") as f:\n",
    "  G = []\n",
    "  for line in f:\n",
    "      nums = [int(x) for x in line.split()]\n",
    "      G.append([(nums[i], nums[i+1]) for i in range(0, len(nums), 2)])\n",
    "  for x in G:\n",
    "    print(x)"
   ]
  },
  {
   "cell_type": "code",
   "execution_count": 4,
   "metadata": {
    "collapsed": false
   },
   "outputs": [
    {
     "name": "stdout",
     "output_type": "stream",
     "text": [
      "[3, 3, 0, -1, 6, 1, 7, 5]\n",
      "[1, 3, 1, 0, 6, 1, 2, 3]\n"
     ]
    }
   ],
   "source": [
    "path,cost = prim(G)\n",
    "print(path)\n",
    "print(cost)"
   ]
  },
  {
   "cell_type": "code",
   "execution_count": 5,
   "metadata": {
    "collapsed": false
   },
   "outputs": [
    {
     "name": "stdout",
     "output_type": "stream",
     "text": [
      "Peso del MST del grafo es : 17\n"
     ]
    }
   ],
   "source": [
    "peso_mst = 0\n",
    "for x in cost:\n",
    "    peso_mst += x\n",
    "print(f\"Peso del MST del grafo es : {peso_mst}\")"
   ]
  }
 ],
 "metadata": {
  "kernelspec": {
   "display_name": "Python 3.9.13 ('base')",
   "language": "python",
   "name": "python3"
  },
  "language_info": {
   "codemirror_mode": {
    "name": "ipython",
    "version": 3
   },
   "file_extension": ".py",
   "mimetype": "text/x-python",
   "name": "python",
   "nbconvert_exporter": "python",
   "pygments_lexer": "ipython3",
   "version": "3.9.13"
  },
  "vscode": {
   "interpreter": {
    "hash": "427b8541cfc07e6fbe7ab4a5298567b1b3022ff2b70fdb07d029f33f0434686a"
   }
  }
 },
 "nbformat": 4,
 "nbformat_minor": 0
}
