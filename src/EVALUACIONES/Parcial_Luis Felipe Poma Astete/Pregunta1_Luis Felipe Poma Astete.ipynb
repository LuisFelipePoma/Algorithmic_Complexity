{
 "cells": [
  {
   "cell_type": "code",
   "execution_count": 1,
   "metadata": {
    "collapsed": false
   },
   "outputs": [],
   "source": [
    "# Funcion \"cambio\" que intercambia los valores de 'ABCD'\n",
    "def cambio(lista, i, j):\n",
    "    tmp = lista[i]\n",
    "    lista[i] = lista[j]\n",
    "    lista[j] = tmp\n"
   ]
  },
  {
   "cell_type": "code",
   "execution_count": 2,
   "metadata": {
    "collapsed": false
   },
   "outputs": [],
   "source": [
    "#En el algoritmo se realizara con recursividad y usando principios de backtracking\n",
    "def permutacion_cine(lista, posicion=0):\n",
    "    # Verifica cuando llegue al final de la lista\n",
    "    if posicion == len(lista) - 1:\n",
    "        print(''.join(lista))\n",
    "    #For que recorrera nuestra lista\n",
    "    for i in range(posicion, len(lista)):\n",
    "        cambio(lista, posicion, i)\n",
    "        permutacion_cine(lista, posicion + 1)\n",
    "        cambio(lista, posicion, i)\n"
   ]
  },
  {
   "cell_type": "code",
   "execution_count": 3,
   "metadata": {
    "collapsed": false
   },
   "outputs": [
    {
     "name": "stdout",
     "output_type": "stream",
     "text": [
      "ABCD\n",
      "ABDC\n",
      "ACBD\n",
      "ACDB\n",
      "ADCB\n",
      "ADBC\n",
      "BACD\n",
      "BADC\n",
      "BCAD\n",
      "BCDA\n",
      "BDCA\n",
      "BDAC\n",
      "CBAD\n",
      "CBDA\n",
      "CABD\n",
      "CADB\n",
      "CDAB\n",
      "CDBA\n",
      "DBCA\n",
      "DBAC\n",
      "DCBA\n",
      "DCAB\n",
      "DACB\n",
      "DABC\n"
     ]
    }
   ],
   "source": [
    "## Test de prueba\n",
    "cola_cine = 'ABCD'\n",
    "permutacion_cine(list(cola_cine))"
   ]
  }
 ],
 "metadata": {
  "kernelspec": {
   "display_name": "Python 3",
   "language": "python",
   "name": "python3"
  },
  "language_info": {
   "codemirror_mode": {
    "name": "ipython",
    "version": 3
   },
   "file_extension": ".py",
   "mimetype": "text/x-python",
   "name": "python",
   "nbconvert_exporter": "python",
   "pygments_lexer": "ipython3",
   "version": "3.11.0"
  },
  "vscode": {
   "interpreter": {
    "hash": "c261aea317cc0286b3b3261fbba9abdec21eaa57589985bb7a274bf54d6cc0a7"
   }
  }
 },
 "nbformat": 4,
 "nbformat_minor": 0
}
