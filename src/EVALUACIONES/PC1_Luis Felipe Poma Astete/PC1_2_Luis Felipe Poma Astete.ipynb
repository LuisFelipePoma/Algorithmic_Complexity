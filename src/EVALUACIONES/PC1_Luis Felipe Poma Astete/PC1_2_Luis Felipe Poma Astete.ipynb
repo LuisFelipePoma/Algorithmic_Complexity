{
 "cells": [
  {
   "cell_type": "markdown",
   "metadata": {
    "collapsed": false
   },
   "source": [
    "## Implemente el algortimo DFS para solucionarlo:\n",
    "\n",
    "## Su código debe mostrar el recorrido hasta llegar a la salida\n",
    "\n",
    "## Tip: Represente el laberinto a través de un grafo, puede usar matriz o lista de adyacencia."
   ]
  },
  {
   "cell_type": "code",
   "execution_count": 5,
   "metadata": {
    "collapsed": false,
    "notebookRunGroups": {
     "groupValue": ""
    }
   },
   "outputs": [],
   "source": [
    "import matplotlib.pyplot as plt\n",
    "import numpy as np\n",
    "import heapq as hq\n",
    "import math"
   ]
  },
  {
   "cell_type": "code",
   "execution_count": 6,
   "metadata": {
    "collapsed": true
   },
   "outputs": [],
   "source": [
    "base = [\n",
    "    [0, 0, 0, 0, 0],\n",
    "    [0, 1, 1, 1, 3],\n",
    "    [0, 1, 0, 1, 0],\n",
    "    [0, 1, 1, 1, 3],\n",
    "    [0, 0, 0, 0, 0]\n",
    "]"
   ]
  },
  {
   "cell_type": "code",
   "execution_count": 7,
   "metadata": {
    "collapsed": false
   },
   "outputs": [
    {
     "name": "stdout",
     "output_type": "stream",
     "text": [
      "<class 'numpy.ndarray'>\n",
      "[[0 0 0 0 0]\n",
      " [0 1 1 1 3]\n",
      " [0 1 0 1 0]\n",
      " [0 1 1 1 3]\n",
      " [0 0 0 0 0]]\n"
     ]
    },
    {
     "data": {
      "text/plain": [
       "<matplotlib.image.AxesImage at 0x223baa50bb0>"
      ]
     },
     "execution_count": 7,
     "metadata": {},
     "output_type": "execute_result"
    },
    {
     "data": {
      "image/png": "[encoded data removed]",
      "text/plain": [
       "<Figure size 640x480 with 1 Axes>"
      ]
     },
     "metadata": {},
     "output_type": "display_data"
    }
   ],
   "source": [
    "maze = np.array([[0, 0, 0, 0, 0],\n",
    "                [0, 1, 1, 1, 3],\n",
    "                [0, 1, 0, 1, 0],\n",
    "                [0, 1, 1, 1, 3],\n",
    "                [0, 0, 0, 0, 0]])\n",
    "print(type(maze))\n",
    "print(maze)\n",
    "plt.imshow(maze, cmap=\"Greys_r\")"
   ]
  },
  {
   "cell_type": "code",
   "execution_count": 8,
   "metadata": {
    "collapsed": false
   },
   "outputs": [],
   "source": [
    "def dfs(maze, inicio, final):\n",
    "    n, m = maze.shape\n",
    "    def _dfs(u):\n",
    "        if maze[u] == 1:\n",
    "            maze[u] = 3\n",
    "            if u == final:\n",
    "                return True\n",
    "            i, j = u\n",
    "            nbs = [(i-1, j), (i, j-1), (i, j+1), (i+1, j)]\n",
    "            for v in nbs:\n",
    "                if maze[v] == 1:\n",
    "                    if _dfs(v):\n",
    "                        return True\n",
    "            maze[u] = 2\n",
    "        return False\n",
    "    _dfs(inicio)"
   ]
  },
  {
   "cell_type": "code",
   "execution_count": 9,
   "metadata": {
    "collapsed": false
   },
   "outputs": [],
   "source": [
    "def bfs(maze, s, t):\n",
    "    n, m = maze.shape\n",
    "    q = [s]\n",
    "    maze[s] = 3\n",
    "    while q:\n",
    "        u = q.pop(0)\n",
    "        if u == t:\n",
    "            break\n",
    "        i, j = u\n",
    "        nbs = [(i-1, j), (i, j-1), (i, j+1), (i+1, j)]\n",
    "        for v in nbs:\n",
    "            if maze[v] == 1:\n",
    "                maze[v] = 3\n",
    "                q.append(v)"
   ]
  },
  {
   "cell_type": "code",
   "execution_count": 10,
   "metadata": {
    "collapsed": false
   },
   "outputs": [
    {
     "name": "stdout",
     "output_type": "stream",
     "text": [
      "[[0 0 0 0 0]\n",
      " [0 3 3 3 3]\n",
      " [0 3 0 1 0]\n",
      " [0 3 3 3 3]\n",
      " [0 0 0 0 0]]\n"
     ]
    },
    {
     "data": {
      "image/png": "[encoded data removed]",
      "text/plain": [
       "<Figure size 640x480 with 1 Axes>"
      ]
     },
     "metadata": {},
     "output_type": "display_data"
    }
   ],
   "source": [
    "n, m = maze.shape\n",
    "dfs(maze, (1,3), (3,3))\n",
    "plt.imshow(maze, cmap=\"Greys_r\")\n",
    "print(maze)"
   ]
  }
 ],
 "metadata": {
  "kernelspec": {
   "display_name": "Python 3.9.12 ('base')",
   "language": "python",
   "name": "python3"
  },
  "language_info": {
   "codemirror_mode": {
    "name": "ipython",
    "version": 3
   },
   "file_extension": ".py",
   "mimetype": "text/x-python",
   "name": "python",
   "nbconvert_exporter": "python",
   "pygments_lexer": "ipython3",
   "version": "3.9.13"
  },
  "vscode": {
   "interpreter": {
    "hash": "427b8541cfc07e6fbe7ab4a5298567b1b3022ff2b70fdb07d029f33f0434686a"
   }
  }
 },
 "nbformat": 4,
 "nbformat_minor": 0
}
