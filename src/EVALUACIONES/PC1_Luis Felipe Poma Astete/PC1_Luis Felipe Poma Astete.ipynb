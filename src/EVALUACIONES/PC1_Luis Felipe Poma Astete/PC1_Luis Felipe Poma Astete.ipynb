{
 "cells": [
  {
   "cell_type": "code",
   "execution_count": 31,
   "metadata": {
    "collapsed": true
   },
   "outputs": [],
   "source": [
    "import numpy as np"
   ]
  },
  {
   "cell_type": "markdown",
   "source": [
    "## Implemente una función recursiva que reciba como parametro un número n>0, y devuelva el producto de los dobles de los números desde 1 a n (ambos incluidos).\n",
    "## Ejemplo: DobleProducto (3) = (2 * 1) * (2 * 2) * (2 * 3) =48"
   ],
   "metadata": {
    "collapsed": false
   }
  },
  {
   "cell_type": "code",
   "execution_count": 32,
   "outputs": [],
   "source": [
    "def DobleProducto(n):\n",
    "    count = n\n",
    "    mul = 1\n",
    "    def _sol(count,mult):\n",
    "        if count < 0:\n",
    "            return 1\n",
    "        return mult * _sol(count - 1,count * 2)\n",
    "    ans = _sol(count,mul)\n",
    "    return ans"
   ],
   "metadata": {
    "collapsed": false
   }
  },
  {
   "cell_type": "code",
   "execution_count": 33,
   "outputs": [
    {
     "name": "stdout",
     "output_type": "stream",
     "text": [
      "48\n"
     ]
    }
   ],
   "source": [
    "print(DobleProducto(3))"
   ],
   "metadata": {
    "collapsed": false
   }
  }
 ],
 "metadata": {
  "kernelspec": {
   "display_name": "Python 3",
   "language": "python",
   "name": "python3"
  },
  "language_info": {
   "codemirror_mode": {
    "name": "ipython",
    "version": 2
   },
   "file_extension": ".py",
   "mimetype": "text/x-python",
   "name": "python",
   "nbconvert_exporter": "python",
   "pygments_lexer": "ipython2",
   "version": "2.7.6"
  }
 },
 "nbformat": 4,
 "nbformat_minor": 0
}
