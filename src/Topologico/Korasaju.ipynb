{
 "cells": [
  {
   "cell_type": "code",
   "execution_count": null,
   "metadata": {
    "collapsed": true
   },
   "outputs": [],
   "source": [
    "import graphviz as gv\n",
    "import numpy as np\n",
    "import pandas as pd"
   ]
  },
  {
   "cell_type": "code",
   "execution_count": null,
   "metadata": {
    "collapsed": false
   },
   "outputs": [],
   "source": [
    "def readAdjl(fn, haslabels=False, weighted=False, sep=\"|\"):\n",
    "  with open(fn) as f:\n",
    "    labels = None\n",
    "    if haslabels:\n",
    "      labels = f.readline().strip().split()\n",
    "    L = []\n",
    "    for line in f:\n",
    "      if weighted:\n",
    "        L.append([tuple(map(int, p.split(sep))) for p in line.strip().split()])\n",
    "        # line => \"1|3 2|5 4|4\" ==> [(1, 3), (2, 5), (4, 4)]\n",
    "      else:\n",
    "        L.append(list(map(int, line.strip().split()))) # \"1 3 5\" => [1, 3, 5]\n",
    "        # L.append([int(x) for x in line.strip().split()])\n",
    "  return L, labels"
   ]
  },
  {
   "cell_type": "code",
   "execution_count": null,
   "metadata": {
    "collapsed": false
   },
   "outputs": [],
   "source": [
    "def adjlShow(L, labels=None, directed=False, weighted=False, path=[],\n",
    "             layout=\"sfdp\"):\n",
    "  g = gv.Digraph(\"G\") if directed else gv.Graph(\"G\")\n",
    "  g.graph_attr[\"layout\"] = layout\n",
    "  g.edge_attr[\"color\"] = \"gray\"\n",
    "  g.node_attr[\"color\"] = \"orangered\"\n",
    "  g.node_attr[\"width\"] = \"0.1\"\n",
    "  g.node_attr[\"height\"] = \"0.1\"\n",
    "  g.node_attr[\"fontsize\"] = \"8\"\n",
    "  g.node_attr[\"fontcolor\"] = \"mediumslateblue\"\n",
    "  g.node_attr[\"fontname\"] = \"monospace\"\n",
    "  g.edge_attr[\"fontsize\"] = \"8\"\n",
    "  g.edge_attr[\"fontname\"] = \"monospace\"\n",
    "  n = len(L)\n",
    "  for u in range(n):\n",
    "    g.node(str(u), labels[u] if labels else str(u))\n",
    "  added = set()\n",
    "  for v, u in enumerate(path):\n",
    "    if u is not None:\n",
    "      if weighted:\n",
    "        for vi, w in G[u]:\n",
    "          if vi == v:\n",
    "            break\n",
    "        g.edge(str(u), str(v), str(w), dir=\"forward\", penwidth=\"2\", color=\"orange\")\n",
    "      else:\n",
    "        g.edge(str(u), str(v), dir=\"forward\", penwidth=\"2\", color=\"orange\")\n",
    "      added.add(f\"{u},{v}\")\n",
    "      added.add(f\"{v},{u}\")\n",
    "  if weighted:\n",
    "    for u in range(n):\n",
    "      for v, w in L[u]:\n",
    "        if not directed and not f\"{u},{v}\" in added:\n",
    "          added.add(f\"{u},{v}\")\n",
    "          added.add(f\"{v},{u}\")\n",
    "          g.edge(str(u), str(v), str(w))\n",
    "        elif directed:\n",
    "          g.edge(str(u), str(v), str(w))\n",
    "  else:\n",
    "    for u in range(n):\n",
    "      for v in L[u]:\n",
    "        if not directed and not f\"{u},{v}\" in added:\n",
    "          added.add(f\"{u},{v}\")\n",
    "          added.add(f\"{v},{u}\")\n",
    "          g.edge(str(u), str(v))\n",
    "        elif directed:\n",
    "          g.edge(str(u), str(v))\n",
    "  return g"
   ]
  },
  {
   "cell_type": "code",
   "execution_count": null,
   "metadata": {
    "collapsed": false
   },
   "outputs": [],
   "source": [
    "%%file 1.in\n",
    "\n",
    "4\n",
    "8\n",
    "6\n",
    "7\n",
    "2\n",
    "9\n",
    "1\n",
    "5 6\n",
    "3 7"
   ]
  },
  {
   "cell_type": "code",
   "execution_count": null,
   "metadata": {
    "collapsed": false
   },
   "outputs": [],
   "source": [
    "G, _ = readAdjl('1.in')\n",
    "adjlShow(G, directed=True)"
   ]
  },
  {
   "cell_type": "code",
   "execution_count": null,
   "metadata": {
    "collapsed": false
   },
   "outputs": [],
   "source": [
    "def reverse(G):\n",
    "  n = len(G)\n",
    "  Grev = [[] for _ in range(n)]\n",
    "  for u in range(n):\n",
    "    for v in G[u]:\n",
    "      Grev[v].append(u)\n",
    "  return Grev"
   ]
  },
  {
   "cell_type": "code",
   "execution_count": null,
   "metadata": {
    "collapsed": false
   },
   "outputs": [],
   "source": [
    "def kosaraju(G):\n",
    "  n = len(G)\n",
    "  visited = [False]*n\n",
    "  f = []\n",
    "\n",
    "  # (1) producir grafo reverso\n",
    "  Grev = reverse(G)\n",
    "\n",
    "  # (2) producir orden de finalización con dfs sobre grafo reverso\n",
    "  def dfs1(u):\n",
    "    visited[u] = True\n",
    "    for v in Grev[u]:\n",
    "      if not visited[v]:\n",
    "        dfs1(v)\n",
    "    f.append(u)\n",
    "\n",
    "  # (3) producir componentes\n",
    "  def dfs2(u, cc):\n",
    "    visited[u] = True\n",
    "    for v in G[u]:\n",
    "      if not visited[v]:\n",
    "        dfs2(v, cc)\n",
    "    cc.append(u)\n",
    "\n",
    "  for u in range(n):\n",
    "    if not visited[u]:\n",
    "      dfs1(u)\n",
    "\n",
    "  scc = []\n",
    "  visited = [False]*n\n",
    "  for u in reversed(f):\n",
    "    if not visited[u]:\n",
    "      cc = []\n",
    "      dfs2(u, cc)\n",
    "      scc.append(cc)\n",
    "\n",
    "  return scc"
   ]
  },
  {
   "cell_type": "code",
   "execution_count": null,
   "metadata": {
    "collapsed": false
   },
   "outputs": [],
   "source": [
    "kosaraju(G)"
   ]
  }
 ],
 "metadata": {
  "kernelspec": {
   "display_name": "Python 3.9.13 ('base')",
   "language": "python",
   "name": "python3"
  },
  "language_info": {
   "codemirror_mode": {
    "name": "ipython",
    "version": 3
   },
   "file_extension": ".py",
   "mimetype": "text/x-python",
   "name": "python",
   "nbconvert_exporter": "python",
   "pygments_lexer": "ipython3",
   "version": "3.9.13"
  },
  "vscode": {
   "interpreter": {
    "hash": "427b8541cfc07e6fbe7ab4a5298567b1b3022ff2b70fdb07d029f33f0434686a"
   }
  }
 },
 "nbformat": 4,
 "nbformat_minor": 0
}
