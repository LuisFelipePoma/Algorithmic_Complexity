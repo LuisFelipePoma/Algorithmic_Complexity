{
 "cells": [
  {
   "cell_type": "code",
   "execution_count": null,
   "metadata": {
    "collapsed": false
   },
   "outputs": [],
   "source": [
    "import graphviz as gv"
   ]
  },
  {
   "cell_type": "code",
   "execution_count": null,
   "metadata": {
    "collapsed": false
   },
   "outputs": [],
   "source": [
    "%%file data.in\n",
    "1 2\n",
    "3 2\n",
    "4\n",
    "2 4\n"
   ]
  },
  {
   "cell_type": "code",
   "execution_count": null,
   "metadata": {
    "collapsed": false
   },
   "outputs": [],
   "source": [
    "def drawGraph(G, path = [],directed =  False):\n",
    "    g = gv.Digraph(\"nombre\") if directed else gv.Graph(\"nombre\")\n",
    "    n = len(G)\n",
    "\n",
    "    done = set()\n",
    "    for v, u in enumerate(path):\n",
    "        if u != -1:\n",
    "            g.edge(str(u), str(v), dir=\"forward\", penwidth=\"2\", color=\"orange\")\n",
    "            done.add((u, v))\n",
    "            done.add((v, u))\n",
    "    for u in range(n):\n",
    "        g.node(str(u))\n",
    "        for v in G[u]:\n",
    "            if not (u, v) in done:\n",
    "                done.add((u, v))\n",
    "                done.add((v, u))\n",
    "                g.edge(str(u), str(v))\n",
    "\n",
    "    return g"
   ]
  },
  {
   "cell_type": "code",
   "execution_count": null,
   "metadata": {
    "collapsed": false
   },
   "outputs": [],
   "source": [
    "with open(\"data.in\") as f:\n",
    "    G = []\n",
    "    for line in f:\n",
    "        G.append([int(x) for x in line.split()])\n",
    "print(G)\n",
    "drawGraph(G,directed=True)"
   ]
  },
  {
   "cell_type": "code",
   "execution_count": null,
   "metadata": {
    "collapsed": true
   },
   "outputs": [],
   "source": [
    "def calculate_grade(G):\n",
    "    n = len(G)\n",
    "    grades = [0]*n\n",
    "    for i in range(n):\n",
    "        for j in range(n):\n",
    "            if i in G[j]:\n",
    "                grades[i] += 1\n",
    "    return grades"
   ]
  },
  {
   "cell_type": "code",
   "execution_count": null,
   "metadata": {
    "collapsed": false
   },
   "outputs": [],
   "source": [
    "grades = calculate_grade(G)\n",
    "print(grades)"
   ]
  },
  {
   "cell_type": "code",
   "execution_count": null,
   "metadata": {
    "collapsed": false
   },
   "outputs": [],
   "source": [
    "n = len(G)\n",
    "for u in range(n):\n",
    "    print(f\"Vertex {u} has in-grade {grades[u]}\")"
   ]
  },
  {
   "cell_type": "code",
   "execution_count": null,
   "metadata": {
    "collapsed": false
   },
   "outputs": [],
   "source": [
    "def k_core(G):\n",
    "    visited = []\n",
    "    path = []\n",
    "    grades = calculate_grade(G)\n",
    "    def dfs_core(pos):\n",
    "            grades = calculate_grade(G)\n",
    "            if pos not in visited:\n",
    "                visited.append(pos)\n",
    "            for i in G[pos]:\n",
    "                if i in eliminated:\n",
    "                    G[pos].remove(i)\n",
    "                    if pos in visited:\n",
    "                        visited.remove(pos)\n",
    "                    grades = calculate_grade(G)\n",
    "                if grades[pos] < k and grades[pos] != 0:\n",
    "                    G[pos] = []\n",
    "                    if pos not in eliminated:\n",
    "                        eliminated.append(pos)\n",
    "                if i not in visited:\n",
    "                    dfs_core(i, visited, eliminated)\n",
    "\n",
    "    dfs_core(inicio)\n",
    "    return path"
   ]
  },
  {
   "cell_type": "markdown",
   "metadata": {
    "collapsed": false
   },
   "source": [
    "## TOPOLOGICO CON DFS (En clases)"
   ]
  },
  {
   "cell_type": "code",
   "execution_count": null,
   "metadata": {
    "collapsed": false
   },
   "outputs": [],
   "source": [
    "def toposort(G):\n",
    "    n = len(G)\n",
    "    visited = [False]*n\n",
    "    orden = []\n",
    "    def dfs(u):\n",
    "        visited[u] = True\n",
    "        for v in G[u]:\n",
    "            if not visited[v]:\n",
    "                dfs(v)\n",
    "        orden.insert(0,u)\n",
    "    for u in range(n):\n",
    "        if not visited[u]:\n",
    "            dfs(u)\n",
    "    return orden"
   ]
  },
  {
   "cell_type": "code",
   "execution_count": null,
   "metadata": {
    "collapsed": false
   },
   "outputs": [],
   "source": [
    "ruth = toposort(G)\n",
    "print(ruth)"
   ]
  }
 ],
 "metadata": {
  "kernelspec": {
   "display_name": "Python 3",
   "language": "python",
   "name": "python3"
  },
  "language_info": {
   "codemirror_mode": {
    "name": "ipython",
    "version": 2
   },
   "file_extension": ".py",
   "mimetype": "text/x-python",
   "name": "python",
   "nbconvert_exporter": "python",
   "pygments_lexer": "ipython2",
   "version": "2.7.6"
  }
 },
 "nbformat": 4,
 "nbformat_minor": 0
}
