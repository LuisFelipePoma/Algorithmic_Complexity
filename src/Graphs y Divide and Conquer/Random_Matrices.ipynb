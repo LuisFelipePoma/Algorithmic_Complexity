{
 "cells": [
  {
   "cell_type": "code",
   "execution_count": 3,
   "outputs": [],
   "source": [
    "import numpy as np"
   ],
   "metadata": {
    "collapsed": false
   }
  },
  {
   "cell_type": "code",
   "execution_count": 1,
   "metadata": {
    "collapsed": true
   },
   "outputs": [],
   "source": [
    "def randomAM(n, m):\n",
    "  matriz = np.array([1 if i < m else 0 for i in range (n * n)])\n",
    "  np.random.shuffle(matriz)\n",
    "  return matriz.reshape((n, n))"
   ]
  },
  {
   "cell_type": "code",
   "execution_count": 13,
   "outputs": [],
   "source": [
    "n = 5 # Tamaño de la matriz nxn\n",
    "m = 2 # Numero de 1 en la matriz"
   ],
   "metadata": {
    "collapsed": false
   }
  },
  {
   "cell_type": "code",
   "execution_count": 22,
   "outputs": [
    {
     "name": "stdout",
     "output_type": "stream",
     "text": [
      "[[0 0 0 0 0]\n",
      " [0 0 0 1 0]\n",
      " [0 0 0 0 0]\n",
      " [0 0 0 1 0]\n",
      " [0 0 0 0 0]]\n"
     ]
    }
   ],
   "source": [
    "np.random.seed(1981)\n",
    "g = randomAM(n,m)\n",
    "print(g)"
   ],
   "metadata": {
    "collapsed": false
   }
  },
  {
   "cell_type": "markdown",
   "source": [
    "### Paso a Paso del Algoritmo"
   ],
   "metadata": {
    "collapsed": false
   }
  },
  {
   "cell_type": "code",
   "execution_count": 60,
   "outputs": [
    {
     "name": "stdout",
     "output_type": "stream",
     "text": [
      "[1, 1, 0, 0, 0, 0, 0, 0, 0, 0, 0, 0, 0, 0, 0, 0, 0, 0, 0, 0, 0, 0, 0, 0, 0]\n",
      "[1 1 0 0 0 0 0 0 0 0 0 0 0 0 0 0 0 0 0 0 0 0 0 0 0]\n",
      "[0 0 0 0 0 0 0 0 1 0 0 0 0 0 0 0 0 0 1 0 0 0 0 0 0]\n",
      "(25,)\n",
      "[[0 0 0 0 0]\n",
      " [0 0 0 1 0]\n",
      " [0 0 0 0 0]\n",
      " [0 0 0 1 0]\n",
      " [0 0 0 0 0]]\n",
      "(25,)\n"
     ]
    }
   ],
   "source": [
    "np.random.seed(1981) # Se genera una semilla aleatoria\n",
    "a = [1 if i < m else 0 for i in range (n *n)] # Crea una lista de tamaño nxn y con m zeros\n",
    "print(a)\n",
    "a = np.array(a, dtype=int) # Lo convierte en un arreglo de enteros sin coma flotante\n",
    "print(a)\n",
    "np.random.shuffle(a) # Varia las posiciones del arreglo\n",
    "print(a)\n",
    "print(a.shape) # Imprime el 'tamaño de la matriz' (a,b), pero en nuestro caso imprimiria (nxn,) ---> que seria el numero de elementos en nuestra matriz\n",
    "print(a.reshape((n,n))) # Imprime nuestra matriz siguiendo el formato que se entregue"
   ],
   "metadata": {
    "collapsed": false
   }
  }
 ],
 "metadata": {
  "kernelspec": {
   "display_name": "Python 3",
   "language": "python",
   "name": "python3"
  },
  "language_info": {
   "codemirror_mode": {
    "name": "ipython",
    "version": 2
   },
   "file_extension": ".py",
   "mimetype": "text/x-python",
   "name": "python",
   "nbconvert_exporter": "python",
   "pygments_lexer": "ipython2",
   "version": "2.7.6"
  }
 },
 "nbformat": 4,
 "nbformat_minor": 0
}
