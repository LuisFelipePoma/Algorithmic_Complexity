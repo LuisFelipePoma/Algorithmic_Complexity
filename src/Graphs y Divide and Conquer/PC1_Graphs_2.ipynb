{
 "cells": [
  {
   "cell_type": "markdown",
   "metadata": {
    "collapsed": false
   },
   "source": [
    "# UCS, DIJKSTRA Y DLS ALGORITHMS"
   ]
  },
  {
   "cell_type": "code",
   "execution_count": null,
   "metadata": {
    "collapsed": false
   },
   "outputs": [],
   "source": [
    "import heapq as hq\n",
    "import math\n",
    "import graphviz as gv"
   ]
  },
  {
   "cell_type": "markdown",
   "metadata": {
    "collapsed": false
   },
   "source": [
    "### Creacion y Lectura del archivo"
   ]
  },
  {
   "cell_type": "code",
   "execution_count": null,
   "metadata": {
    "collapsed": false
   },
   "outputs": [],
   "source": [
    "%%file g.in\n",
    "1 7 2 2 3 4 4 6\n",
    "0 7 2 4 3 4 5 3 6 2\n",
    "0 2 1 4\n",
    "0 4 1 4 5 9 7 3\n",
    "0 6 6 9 7 9\n",
    "1 3 3 9 6 8 7 4\n",
    "1 2 4 9 5 8\n",
    "3 3 4 9 5 4"
   ]
  },
  {
   "cell_type": "code",
   "execution_count": null,
   "metadata": {
    "collapsed": false
   },
   "outputs": [],
   "source": [
    "with open(\"g.in\") as f:\n",
    "    G = []\n",
    "    for line in f:\n",
    "        if line.startswith(\"-\"):\n",
    "            G.append([])\n",
    "        else:\n",
    "            a = line.split()\n",
    "            G.append([(int(a[i]), float(a[i + 1])) for i in range(0, len(a), 2)])\n",
    "print(\"[\", end=\"\")\n",
    "for l in G:\n",
    "    print(f\"{l}\")\n",
    "print(\"]\")"
   ]
  },
  {
   "cell_type": "markdown",
   "metadata": {
    "collapsed": false
   },
   "source": [
    "### Graficado de un Grafo"
   ]
  },
  {
   "cell_type": "code",
   "execution_count": null,
   "metadata": {
    "collapsed": false
   },
   "outputs": [],
   "source": [
    "def drawGraph(G, path=[], h=[], directed=False):\n",
    "    g = gv.Digraph(\"nombre\") if directed else gv.Graph(\"nombre\")\n",
    "    n = len(G)\n",
    "\n",
    "    for u, hi in enumerate(h):\n",
    "        g.node(str(u), f\"{u}({hi})\")\n",
    "\n",
    "    done = set()\n",
    "    for v, u in enumerate(path):\n",
    "        if u != -1:\n",
    "            g.edge(str(u), str(v), dir=\"forward\", penwidth=\"2\", color=\"orange\")\n",
    "            done.add((u, v))\n",
    "            done.add((v, u))\n",
    "    for u in range(n):\n",
    "        g.node(str(u))\n",
    "        for v, w in G[u]:\n",
    "            if not (u, v) in done:\n",
    "                done.add((u, v))\n",
    "                done.add((v, u))\n",
    "                g.edge(str(u), str(v), str(w))\n",
    "\n",
    "    return g"
   ]
  },
  {
   "cell_type": "code",
   "execution_count": null,
   "metadata": {
    "collapsed": false
   },
   "outputs": [],
   "source": [
    "print(G)"
   ]
  },
  {
   "cell_type": "code",
   "execution_count": null,
   "metadata": {
    "collapsed": false
   },
   "outputs": [],
   "source": [
    "aux = []\n",
    "drawGraph(G, h=aux)"
   ]
  },
  {
   "cell_type": "markdown",
   "metadata": {
    "collapsed": false
   },
   "source": [
    "### Implementacion del algoritmo de Dijkstra o UCS ( RECORRIDO POR COSTO UNIFORME )"
   ]
  },
  {
   "cell_type": "code",
   "execution_count": 1,
   "metadata": {
    "collapsed": false
   },
   "outputs": [],
   "source": [
    "def dijkstra(G, s):\n",
    "    n = len(G)\n",
    "    visited = [False] * n\n",
    "    path = [-1] * n\n",
    "    cost = [math.inf] * n\n",
    "    cost[s] = 0\n",
    "\n",
    "    pq = []\n",
    "    hq.heappush(pq, (0, s))\n",
    "    while pq:\n",
    "        _, u = hq.heappop(pq)\n",
    "        visited[u] = True\n",
    "        for v, w in G[u]:\n",
    "            f = cost[u] + w\n",
    "            if not visited[v] and f < cost[v]:\n",
    "                cost[v] = f\n",
    "                path[v] = u\n",
    "                hq.heappush(pq, (f, v))\n",
    "    return path, cost"
   ]
  },
  {
   "cell_type": "code",
   "execution_count": null,
   "metadata": {
    "collapsed": false
   },
   "outputs": [],
   "source": [
    "path_disjktra, cost_disjktra = dijkstra(G, 7)\n",
    "print(f\"El path del grafo con Dijkstra es --->  {path_disjktra}\")\n",
    "print(f\"El cost del grafo con Dijkstra es --->  {cost_disjktra}\")"
   ]
  },
  {
   "cell_type": "code",
   "execution_count": null,
   "metadata": {
    "collapsed": false
   },
   "outputs": [],
   "source": [
    "drawGraph(G, path=path_disjktra, h=aux)"
   ]
  },
  {
   "cell_type": "markdown",
   "metadata": {
    "collapsed": false
   },
   "source": [
    "### DLS ( RECORRIDO EN PROFUNDIDAD LIMITADA )"
   ]
  },
  {
   "cell_type": "code",
   "execution_count": null,
   "metadata": {
    "collapsed": false
   },
   "outputs": [],
   "source": [
    "def dls(G, s, L): # depth limited search (EVADE PESOS)\n",
    "  n = len(G)\n",
    "  visited = [False]*n\n",
    "  path = [-1]*n\n",
    "\n",
    "  def _f(u,l):\n",
    "    if l > 0:\n",
    "      visited[u] = True\n",
    "      for v,w in G[u]:\n",
    "        if not visited[v]:\n",
    "          path[v] = u\n",
    "          _f(v, l - 1)\n",
    "  _f(s, L)\n",
    "  return path"
   ]
  },
  {
   "cell_type": "code",
   "execution_count": null,
   "metadata": {
    "collapsed": false
   },
   "outputs": [],
   "source": [
    "path_dls = dls(G, 1, 4)\n",
    "print(path_dls)"
   ]
  },
  {
   "cell_type": "code",
   "execution_count": null,
   "metadata": {
    "collapsed": false
   },
   "outputs": [],
   "source": [
    "drawGraph(G, path=path_dls, h=aux)"
   ]
  },
  {
   "cell_type": "markdown",
   "metadata": {
    "collapsed": false
   },
   "source": [
    "### IDS ( RECORRIDO EN PROFUNDIDAD ITERATIVA )"
   ]
  },
  {
   "cell_type": "markdown",
   "metadata": {
    "collapsed": false
   },
   "source": [
    "### Creacion de un grafo para IDS"
   ]
  },
  {
   "cell_type": "code",
   "execution_count": null,
   "metadata": {
    "collapsed": false
   },
   "outputs": [],
   "source": [
    "%%file 0503.al\n",
    "1 4\n",
    "-\n",
    "-\n",
    "2 6 17\n",
    "7\n",
    "2\n",
    "10\n",
    "0 8\n",
    "4\n",
    "8\n",
    "-\n",
    "8 14\n",
    "16\n",
    "9 17\n",
    "15\n",
    "11 17\n",
    "15 17\n",
    "13"
   ]
  },
  {
   "cell_type": "markdown",
   "metadata": {
    "collapsed": false
   },
   "source": [
    "### Lectura del grafo y representacion en listas"
   ]
  },
  {
   "cell_type": "code",
   "execution_count": null,
   "metadata": {
    "collapsed": false
   },
   "outputs": [],
   "source": [
    "with open(\"0503.al\") as f:\n",
    "  G_3 = []\n",
    "  for line in f:\n",
    "    if line == \"-\\n\":\n",
    "      G_3.append([])\n",
    "    else:\n",
    "      G_3.append([int(x) for x in line.split()])\n",
    "\n",
    "for x in G_3:\n",
    "  print(x)"
   ]
  },
  {
   "cell_type": "markdown",
   "metadata": {
    "collapsed": false
   },
   "source": [
    "### OTRA VERSION DEL GRAFICADO DE GRAFOS"
   ]
  },
  {
   "cell_type": "code",
   "execution_count": null,
   "metadata": {
    "collapsed": false
   },
   "outputs": [],
   "source": [
    "def drawG_al(G, directed=False, weighted=False, path=[], layout=\"sfdp\"):\n",
    "  graph = gv.Digraph(\"felicidad\") if directed else gv.Graph(\"alegria\")\n",
    "  graph.graph_attr[\"layout\"] = layout\n",
    "  graph.edge_attr[\"color\"] = \"gray\"\n",
    "  graph.node_attr[\"color\"] = \"orangered\"\n",
    "  graph.node_attr[\"width\"] = \"0.1\"\n",
    "  graph.node_attr[\"height\"] = \"0.1\"\n",
    "  graph.node_attr[\"fontsize\"] = \"8\"\n",
    "  graph.node_attr[\"fontcolor\"] = \"mediumslateblue\"\n",
    "  graph.node_attr[\"fontname\"] = \"monospace\"\n",
    "  graph.edge_attr[\"fontsize\"] = \"8\"\n",
    "  graph.edge_attr[\"fontname\"] = \"monospace\"\n",
    "  n = len(G)\n",
    "  added = set()\n",
    "  for v, u in enumerate(path):\n",
    "    if u != -1:\n",
    "      if weighted:\n",
    "        for vi, w in G[u]:\n",
    "          if vi == v:\n",
    "            break\n",
    "        graph.edge(str(u), str(v), str(w), dir=\"forward\", penwidth=\"2\", color=\"orange\")\n",
    "      else:\n",
    "        graph.edge(str(u), str(v), dir=\"forward\", penwidth=\"2\", color=\"orange\")\n",
    "      added.add(f\"{u},{v}\")\n",
    "      added.add(f\"{v},{u}\")\n",
    "  for u in range(n):\n",
    "    for edge in G[u]:\n",
    "      if weighted:\n",
    "        v, w = edge\n",
    "      else:\n",
    "        v = edge\n",
    "      draw = False\n",
    "      if not directed and not f\"{u},{v}\" in added:\n",
    "        added.add(f\"{u},{v}\")\n",
    "        added.add(f\"{v},{u}\")\n",
    "        draw = True\n",
    "      elif directed and not f\"{u},{v}\" in added:\n",
    "        added.add(f\"{u},{v}\")\n",
    "        draw = True\n",
    "      if draw:\n",
    "        if weighted:\n",
    "          graph.edge(str(u), str(v), str(w))\n",
    "        else:\n",
    "          graph.edge(str(u), str(v))\n",
    "  return graph"
   ]
  },
  {
   "cell_type": "markdown",
   "metadata": {
    "collapsed": false
   },
   "source": [
    "### COMO IDS USA A DLS ---> CREAMOS UNA VERSION DE DLS SIN USAR PESOS"
   ]
  },
  {
   "cell_type": "code",
   "execution_count": null,
   "metadata": {
    "collapsed": false
   },
   "outputs": [],
   "source": [
    "def dls2(G, s, L):\n",
    "  n = len(G)\n",
    "  visited = [False]*n\n",
    "  path = [-1]*n\n",
    "\n",
    "  def _dls2(u, L):\n",
    "    if L > 0 and not visited[u]:\n",
    "      visited[u] = True\n",
    "      for v in G[u]:\n",
    "        if not visited[v]:\n",
    "          path[v] = u\n",
    "          _dls2(v, L - 1)\n",
    "\n",
    "  _dls2(s, L)\n",
    "  return path"
   ]
  },
  {
   "cell_type": "code",
   "execution_count": null,
   "metadata": {
    "collapsed": false
   },
   "outputs": [],
   "source": [
    "def ids(G, start, target):\n",
    "  n = len(G)\n",
    "  for limit in range(n):\n",
    "    path = dls2(G, start, limit)\n",
    "    if path[target] != -1:\n",
    "      break\n",
    "  return path"
   ]
  },
  {
   "cell_type": "code",
   "execution_count": null,
   "metadata": {
    "collapsed": false
   },
   "outputs": [],
   "source": [
    "drawG_al(G_3, directed=True, layout=\"neato\")"
   ]
  },
  {
   "cell_type": "code",
   "execution_count": null,
   "metadata": {
    "collapsed": false
   },
   "outputs": [],
   "source": [
    "path_ids_1 = ids(G_3, start = 12, target = 7)\n",
    "print(path_ids_1)\n",
    "drawG_al(G_3, directed = True, path = path_ids_1, layout = \"neato\")"
   ]
  },
  {
   "cell_type": "code",
   "execution_count": null,
   "metadata": {
    "collapsed": false
   },
   "outputs": [],
   "source": [
    "path_ids_2 = ids(G_3, start = 12, target = 10)\n",
    "print(path_ids_2)\n",
    "drawG_al(G_3, directed = True, path = path_ids_2, layout = \"neato\")"
   ]
  },
  {
   "cell_type": "markdown",
   "metadata": {
    "collapsed": false
   },
   "source": [
    "### A Star (A')"
   ]
  },
  {
   "cell_type": "code",
   "execution_count": null,
   "metadata": {
    "collapsed": false
   },
   "outputs": [],
   "source": [
    "def a_star(G, s, t, h):\n",
    "    n = len(G)\n",
    "    g = [math.inf]*n\n",
    "    visited = [False]*n\n",
    "    f = [math.inf]*n\n",
    "    path = [-1]*n\n",
    "\n",
    "    g[s] = 0\n",
    "    f[s] = h[s]\n",
    "    q = []\n",
    "    hq.heappush(q, (f[s], s))\n",
    "    while q:\n",
    "        _, n = hq.heappop(q)\n",
    "        if not visited[n]:\n",
    "            visited[n] = True\n",
    "            if n == t:\n",
    "                break\n",
    "            for v, w in G[n]:\n",
    "                if not visited[v] and g[n] + w < g[v]:\n",
    "                    path[v] = n\n",
    "                    g[v] = g[n] + w\n",
    "                    f[v] = g[v] + h[v]\n",
    "                    hq.heappush(q, (f[v], v))\n",
    "\n",
    "    return path"
   ]
  },
  {
   "cell_type": "markdown",
   "metadata": {
    "collapsed": false
   },
   "source": [
    "### Preparando el entorno para el caso de A star"
   ]
  },
  {
   "cell_type": "code",
   "execution_count": null,
   "metadata": {
    "collapsed": false
   },
   "outputs": [],
   "source": [
    "def manhattan(a, b):\n",
    "    x0, y0 = a\n",
    "    x1, y1 = b\n",
    "    return abs(x0 - x1) + abs(y0 - y1)"
   ]
  },
  {
   "cell_type": "code",
   "execution_count": null,
   "metadata": {
    "collapsed": false
   },
   "outputs": [],
   "source": [
    "tamano = 6 # Tamaño de la la lista de listas tamano x tamano\n",
    "G_2 = [[] for i in range(tamano * tamano)] # Crea una lista de listas de (tamano x tamano) elementos\n",
    "end = (5, 5) # Variable par para el calculo de h\n",
    "h = [] # Peso especiales por vertice, calculados por manhattan"
   ]
  },
  {
   "cell_type": "markdown",
   "metadata": {
    "collapsed": false
   },
   "source": [
    "### La siguiente funcion genera los datos del grafo"
   ]
  },
  {
   "cell_type": "code",
   "execution_count": null,
   "metadata": {
    "collapsed": false
   },
   "outputs": [],
   "source": [
    "for i in range(tamano):\n",
    "    for j in range(tamano):\n",
    "        idx = i * tamano + j\n",
    "        nbrs = [(i-1, j-1, 2), (i-1, j, 1), (i-1, j+1, 2),\n",
    "                (  i, j-1, 1),              (  i, j+1, 1),\n",
    "                (i+1, j-1, 2), (i+1, j, 1), (i+1, j+1, 2)]\n",
    "        for i0, j0, w in nbrs:\n",
    "            if i0 < 0 or i0 >= tamano or j0 < 0 or j0 >= tamano:\n",
    "                continue\n",
    "            idx0 = i0 * tamano + j0\n",
    "            G_2[idx].append((idx0, w))\n",
    "        h.append(manhattan((i, j), end))"
   ]
  },
  {
   "cell_type": "code",
   "execution_count": null,
   "metadata": {
    "collapsed": false
   },
   "outputs": [],
   "source": [
    "print(G_2)"
   ]
  },
  {
   "cell_type": "code",
   "execution_count": null,
   "metadata": {
    "collapsed": false
   },
   "outputs": [],
   "source": [
    "print(h) # Imprime los pesos especiales de cada nodo"
   ]
  },
  {
   "cell_type": "code",
   "execution_count": null,
   "metadata": {
    "collapsed": false
   },
   "outputs": [],
   "source": [
    "drawGraph(G_2, h=h)"
   ]
  },
  {
   "cell_type": "code",
   "execution_count": null,
   "metadata": {
    "collapsed": false
   },
   "outputs": [],
   "source": [
    "path_Astar = a_star(G_2, 7, 35, h)\n",
    "print(path_Astar)"
   ]
  },
  {
   "cell_type": "code",
   "execution_count": null,
   "metadata": {
    "collapsed": false
   },
   "outputs": [],
   "source": [
    "drawGraph(G_2, path = path_Astar, h = h)"
   ]
  }
 ],
 "metadata": {
  "kernelspec": {
   "display_name": "Python 3",
   "language": "python",
   "name": "python3"
  },
  "language_info": {
   "codemirror_mode": {
    "name": "ipython",
    "version": 3
   },
   "file_extension": ".py",
   "mimetype": "text/x-python",
   "name": "python",
   "nbconvert_exporter": "python",
   "pygments_lexer": "ipython3",
   "version": "3.11.7"
  }
 },
 "nbformat": 4,
 "nbformat_minor": 0
}
