{
 "cells": [
  {
   "cell_type": "markdown",
   "metadata": {
    "collapsed": false
   },
   "source": [
    "# DRAW GRAPH"
   ]
  },
  {
   "cell_type": "code",
   "execution_count": null,
   "metadata": {
    "collapsed": false
   },
   "outputs": [],
   "source": [
    "def drawGraph(G,path):\n",
    "  g = gv.Graph(\"nombre\")\n",
    "  n=len(G)\n",
    "  done = set()\n",
    "  for v,u in enumerate (path):\n",
    "    if u != -1:\n",
    "      g.edge(str(u),str(v),dir=\"forward\",penwidth=\"2\",color=\"orange\")\n",
    "      done.add((u,v))\n",
    "      done.add((v,u))\n",
    "  for u in range(n):\n",
    "    g.node(str(u))\n",
    "    for v in G[u]:\n",
    "      if not (u,v) in done:\n",
    "        done.add((u,v))\n",
    "        done.add((v,u))\n",
    "        g.edge(str(u),str(v))\n",
    "  print(g)\n",
    "\n",
    "  return g"
   ]
  },
  {
   "cell_type": "code",
   "execution_count": null,
   "metadata": {},
   "outputs": [],
   "source": [
    "%%file 1.in\n",
    "2 3 4\n",
    "4 5 6\n",
    "0 4\n",
    "0 1 7\n",
    "0 2\n",
    "1 6 7\n",
    "1 5\n",
    "3 5"
   ]
  },
  {
   "cell_type": "markdown",
   "metadata": {
    "collapsed": false
   },
   "source": [
    "# BFS"
   ]
  },
  {
   "cell_type": "code",
   "execution_count": null,
   "metadata": {},
   "outputs": [],
   "source": [
    "import numpy as np\n",
    "import graphviz as gv"
   ]
  },
  {
   "cell_type": "code",
   "execution_count": null,
   "metadata": {},
   "outputs": [],
   "source": [
    "def bfs(G, s):\n",
    "  n= len(G)\n",
    "  visited = [False]*n\n",
    "  path = [-1]*n\n",
    "  queue = [s]\n",
    "  visited[s] = True\n",
    "\n",
    "  while queue:\n",
    "    u=queue.pop(0)\n",
    "    for v in G[u]:\n",
    "      if not visited[v]:\n",
    "        visited[v]=True\n",
    "        path[v]=u\n",
    "        queue.append(v)\n",
    "  return path"
   ]
  },
  {
   "cell_type": "code",
   "execution_count": null,
   "metadata": {},
   "outputs": [],
   "source": [
    "with open (\"1.in\")as f:\n",
    "  G=[]\n",
    "  for line in f:\n",
    "    G.append([int(x) for x in line.split()])\n",
    "  for l in G:\n",
    "    print(l)"
   ]
  },
  {
   "cell_type": "code",
   "execution_count": null,
   "metadata": {},
   "outputs": [],
   "source": [
    "path = bfs(G,4)\n",
    "path"
   ]
  },
  {
   "cell_type": "code",
   "execution_count": null,
   "metadata": {},
   "outputs": [],
   "source": [
    "drawGraph(G,path)"
   ]
  },
  {
   "cell_type": "markdown",
   "metadata": {
    "collapsed": false
   },
   "source": [
    "# DFS"
   ]
  },
  {
   "cell_type": "code",
   "execution_count": null,
   "metadata": {
    "collapsed": false
   },
   "outputs": [],
   "source": [
    "def dfs(G, s):\n",
    "  n = len(G)\n",
    "  visited = [False]*n\n",
    "  parent = [-1]*n\n",
    "\n",
    "  def _dfs(u):\n",
    "    visited[u] = True\n",
    "    for v in G[u]:\n",
    "      if not visited[v]:\n",
    "        parent[v] = u\n",
    "        _dfs(v)\n",
    "\n",
    "  _dfs(s)\n",
    "\n",
    "  return parent"
   ]
  },
  {
   "cell_type": "code",
   "execution_count": null,
   "metadata": {
    "collapsed": false
   },
   "outputs": [],
   "source": [
    "path=dfs(G,4)\n",
    "print(path)\n"
   ]
  },
  {
   "cell_type": "code",
   "execution_count": null,
   "metadata": {
    "collapsed": false
   },
   "outputs": [],
   "source": [
    "drawGraph(G,path)"
   ]
  }
 ],
 "metadata": {
  "kernelspec": {
   "display_name": "Python 3.9.12 ('base')",
   "language": "python",
   "name": "python3"
  },
  "language_info": {
   "codemirror_mode": {
    "name": "ipython",
    "version": 3
   },
   "file_extension": ".py",
   "mimetype": "text/x-python",
   "name": "python",
   "nbconvert_exporter": "python",
   "pygments_lexer": "ipython3",
   "version": "3.9.12"
  },
  "orig_nbformat": 4,
  "vscode": {
   "interpreter": {
    "hash": "427b8541cfc07e6fbe7ab4a5298567b1b3022ff2b70fdb07d029f33f0434686a"
   }
  }
 },
 "nbformat": 4,
 "nbformat_minor": 2
}
