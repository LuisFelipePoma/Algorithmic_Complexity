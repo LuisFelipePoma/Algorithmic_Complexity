{
 "cells": [
  {
   "cell_type": "code",
   "execution_count": null,
   "metadata": {
    "collapsed": false
   },
   "outputs": [],
   "source": [
    "import mazebuilder as mb\n",
    "import matplotlib.pyplot as plt\n",
    "import numpy as np\n",
    "import heapq as hq\n",
    "import math"
   ]
  },
  {
   "cell_type": "markdown",
   "metadata": {
    "collapsed": false
   },
   "source": [
    "# Generacion de laberintos aleatorios"
   ]
  },
  {
   "cell_type": "code",
   "execution_count": null,
   "metadata": {
    "collapsed": false
   },
   "outputs": [],
   "source": [
    "# SOLO EJECUTAR SI NO TIENE LOS ARCHIVOS ----> (disjointset.py) y (mazebuilder.py)\n",
    "# rawbase = \"https://raw.githubusercontent.com/lmcanavals/algorithmic_complexity/main/\"\n",
    "# ds = f\"{rawbase}disjointset.py\"\n",
    "# mb = f\"{rawbase}mazebuilder.py\"\n",
    "# !curl -O $ds\n",
    "# !curl -O $mb"
   ]
  },
  {
   "cell_type": "code",
   "execution_count": null,
   "metadata": {
    "collapsed": false
   },
   "outputs": [],
   "source": [
    "maze_example = mb.makeMaze(3, 4)\n",
    "print(type(maze_example))\n",
    "print(maze_example)\n",
    "print(maze_example[0])"
   ]
  },
  {
   "cell_type": "code",
   "execution_count": null,
   "metadata": {
    "collapsed": false
   },
   "outputs": [],
   "source": [
    "plt.imshow(maze_example, cmap=\"Greys_r\")"
   ]
  },
  {
   "cell_type": "markdown",
   "metadata": {
    "collapsed": false
   },
   "source": [
    "# Resolucion del laberinto con DFS (DFS en esencia es Backtracking)"
   ]
  },
  {
   "cell_type": "markdown",
   "metadata": {
    "collapsed": false
   },
   "source": [
    "### Alteracion del algoritmo DFS a un problema con matriz"
   ]
  },
  {
   "cell_type": "code",
   "execution_count": null,
   "metadata": {
    "collapsed": true
   },
   "outputs": [],
   "source": [
    "def dfs(maze, s, t):\n",
    "    n, m = maze.shape\n",
    "\n",
    "    def _dfs(u):\n",
    "        if maze[u] == 1:\n",
    "            maze[u] = 3\n",
    "            if u == t:\n",
    "                return True\n",
    "            i, j = u\n",
    "            nbs = [(i-1, j), (i, j-1), (i, j+1), (i+1, j)]\n",
    "            for v in nbs:\n",
    "                if maze[v] == 1:\n",
    "                    if _dfs(v):\n",
    "                        return True\n",
    "            maze[u] = 2\n",
    "        return False\n",
    "\n",
    "    _dfs(s)"
   ]
  },
  {
   "cell_type": "markdown",
   "metadata": {
    "collapsed": false
   },
   "source": [
    "### Aplicamos el algoritmo en la resolucion de algunos laberintos"
   ]
  },
  {
   "cell_type": "code",
   "execution_count": null,
   "metadata": {
    "collapsed": false
   },
   "outputs": [],
   "source": [
    "maze_dfs_1 = mb.makeMaze(3, 4)\n",
    "maze_dfs_2 = mb.makeMaze(30, 40)\n",
    "maze_dfs_3 = mb.makeMaze(35, 45)\n",
    "maze_dfs_4 = mb.makeMaze(45, 50)"
   ]
  },
  {
   "cell_type": "markdown",
   "metadata": {
    "collapsed": false
   },
   "source": [
    "### Ejemplo 1 de DFS"
   ]
  },
  {
   "cell_type": "code",
   "execution_count": null,
   "metadata": {
    "collapsed": false
   },
   "outputs": [],
   "source": [
    "n, m = maze_dfs_1.shape\n",
    "print(maze_dfs_1)\n",
    "plt.imshow(maze_dfs_1, cmap=\"inferno\")"
   ]
  },
  {
   "cell_type": "code",
   "execution_count": null,
   "metadata": {
    "collapsed": false
   },
   "outputs": [],
   "source": [
    "dfs(maze_dfs_1, (1, 1), (n - 2, m - 2))\n",
    "plt.imshow(maze_dfs_1, cmap=\"inferno\")\n",
    "print(maze_dfs_1)"
   ]
  },
  {
   "cell_type": "markdown",
   "metadata": {
    "collapsed": false
   },
   "source": [
    "### Ejemplo 2 de DFS"
   ]
  },
  {
   "cell_type": "code",
   "execution_count": null,
   "metadata": {
    "collapsed": false
   },
   "outputs": [],
   "source": [
    "n, m = maze_dfs_2.shape\n",
    "plt.imshow(maze_dfs_2, cmap=\"inferno\")"
   ]
  },
  {
   "cell_type": "code",
   "execution_count": null,
   "metadata": {
    "collapsed": false
   },
   "outputs": [],
   "source": [
    "dfs(maze_dfs_2, (1, 1), (n - 2, m - 2))\n",
    "plt.imshow(maze_dfs_2, cmap=\"inferno\")"
   ]
  },
  {
   "cell_type": "markdown",
   "metadata": {
    "collapsed": false
   },
   "source": [
    "### Ejemplo 3 de DFS"
   ]
  },
  {
   "cell_type": "code",
   "execution_count": null,
   "metadata": {
    "collapsed": false
   },
   "outputs": [],
   "source": [
    "n, m = maze_dfs_3.shape\n",
    "plt.imshow(maze_dfs_3, cmap=\"inferno\")"
   ]
  },
  {
   "cell_type": "code",
   "execution_count": null,
   "metadata": {
    "collapsed": false
   },
   "outputs": [],
   "source": [
    "dfs(maze_dfs_3, (1, 1), (n - 2, m - 2))\n",
    "plt.imshow(maze_dfs_3, cmap=\"inferno\")"
   ]
  },
  {
   "cell_type": "markdown",
   "metadata": {
    "collapsed": false
   },
   "source": [
    "### Ejemplo 4 de DFS"
   ]
  },
  {
   "cell_type": "code",
   "execution_count": null,
   "metadata": {
    "collapsed": false
   },
   "outputs": [],
   "source": [
    "n, m = maze_dfs_4.shape\n",
    "plt.imshow(maze_dfs_4, cmap=\"inferno\")"
   ]
  },
  {
   "cell_type": "code",
   "execution_count": null,
   "metadata": {
    "collapsed": false
   },
   "outputs": [],
   "source": [
    "dfs(maze_dfs_4, (1, 1), (n - 2, m - 2))\n",
    "plt.imshow(maze_dfs_4, cmap=\"inferno\")"
   ]
  },
  {
   "cell_type": "markdown",
   "metadata": {
    "collapsed": false
   },
   "source": [
    "# Resolucion del laberinto con BFS"
   ]
  },
  {
   "cell_type": "code",
   "execution_count": null,
   "metadata": {
    "collapsed": false
   },
   "outputs": [],
   "source": [
    "def bfs(maze, s, t):\n",
    "    n, m = maze.shape\n",
    "    q = [s]\n",
    "    maze[s] = 3\n",
    "    while q:\n",
    "        u = q.pop(0)\n",
    "        if u == t:\n",
    "            break\n",
    "        i, j = u\n",
    "        nbs = [(i-1, j), (i, j-1), (i, j+1), (i+1, j)]\n",
    "        for v in nbs:\n",
    "            if maze[v] == 1:\n",
    "                maze[v] = 3\n",
    "                q.append(v)"
   ]
  },
  {
   "cell_type": "markdown",
   "metadata": {
    "collapsed": false
   },
   "source": [
    "### Creacion de los ejemplos"
   ]
  },
  {
   "cell_type": "code",
   "execution_count": null,
   "metadata": {
    "collapsed": false
   },
   "outputs": [],
   "source": [
    "maze_bfs_1 = mb.makeMaze(10, 20)\n",
    "maze_bfs_2 = mb.makeMaze(30, 40)\n",
    "maze_bfs_3 = mb.makeMaze(35, 45)\n",
    "maze_bfs_4 = mb.makeMaze(45, 50)"
   ]
  },
  {
   "cell_type": "markdown",
   "metadata": {
    "collapsed": false
   },
   "source": [
    "### Ejemplo 1 en BFS"
   ]
  },
  {
   "cell_type": "code",
   "execution_count": null,
   "metadata": {
    "collapsed": false
   },
   "outputs": [],
   "source": [
    "n, m = maze_bfs_1.shape\n",
    "plt.imshow(maze_bfs_1, cmap=\"inferno\")"
   ]
  },
  {
   "cell_type": "code",
   "execution_count": null,
   "metadata": {
    "collapsed": false
   },
   "outputs": [],
   "source": [
    "bfs(maze_bfs_1, (1, 1), (n - 2, m - 2))\n",
    "plt.imshow(maze_bfs_1, cmap=\"inferno\")"
   ]
  },
  {
   "cell_type": "markdown",
   "metadata": {
    "collapsed": false
   },
   "source": [
    "### Ejemplo 2 en BFS"
   ]
  },
  {
   "cell_type": "code",
   "execution_count": null,
   "metadata": {
    "collapsed": false
   },
   "outputs": [],
   "source": [
    "n, m = maze_bfs_2.shape\n",
    "plt.imshow(maze_bfs_2, cmap=\"inferno\")"
   ]
  },
  {
   "cell_type": "code",
   "execution_count": null,
   "metadata": {
    "collapsed": false
   },
   "outputs": [],
   "source": [
    "bfs(maze_bfs_2, (1, 1), (n - 2, m - 2))\n",
    "plt.imshow(maze_bfs_2, cmap=\"inferno\")"
   ]
  },
  {
   "cell_type": "markdown",
   "metadata": {
    "collapsed": false
   },
   "source": [
    "### Ejemplo 2 en BFS"
   ]
  },
  {
   "cell_type": "markdown",
   "metadata": {
    "collapsed": false
   },
   "source": []
  },
  {
   "cell_type": "code",
   "execution_count": null,
   "metadata": {
    "collapsed": false
   },
   "outputs": [],
   "source": [
    "n, m = maze_bfs_3.shape\n",
    "copy = maze_bfs_3.copy()\n",
    "plt.imshow(copy, cmap=\"inferno\")"
   ]
  },
  {
   "cell_type": "code",
   "execution_count": null,
   "metadata": {
    "collapsed": false
   },
   "outputs": [],
   "source": [
    "bfs(copy, (1, 1), (n - 2, m - 2))\n",
    "plt.imshow(copy, cmap=\"inferno\")"
   ]
  },
  {
   "cell_type": "markdown",
   "metadata": {
    "collapsed": false
   },
   "source": [
    "# Resolucion de Laberinto con Backtracking"
   ]
  },
  {
   "cell_type": "code",
   "execution_count": null,
   "metadata": {
    "collapsed": false
   },
   "outputs": [],
   "source": [
    "def drawMaze(maze, size=15):\n",
    "  _, ax = plt.subplots(figsize=(size, size))\n",
    "  ax.imshow(maze)\n",
    "  ax.axis(\"off\")"
   ]
  },
  {
   "cell_type": "code",
   "execution_count": null,
   "metadata": {
    "collapsed": false
   },
   "outputs": [],
   "source": [
    "maze_bt_example = mb.makeMaze(3, 6)\n",
    "drawMaze(maze_bt_example)"
   ]
  },
  {
   "cell_type": "code",
   "execution_count": null,
   "metadata": {
    "collapsed": false
   },
   "outputs": [],
   "source": [
    "maze_bt_example"
   ]
  },
  {
   "cell_type": "code",
   "execution_count": null,
   "metadata": {
    "collapsed": false
   },
   "outputs": [],
   "source": [
    "type(maze_bt_example)"
   ]
  },
  {
   "cell_type": "markdown",
   "metadata": {
    "collapsed": false
   },
   "source": [
    "### Se crea el algoritmo para resolver el laberinto"
   ]
  },
  {
   "cell_type": "code",
   "execution_count": null,
   "metadata": {
    "collapsed": false
   },
   "outputs": [],
   "source": [
    "def mazeSolver(maze, row, col, rowF, colF):\n",
    "  maze[row, col] = 3  # camino correcto (amarillo)\n",
    "  if row == rowF and col == colF:\n",
    "    #drawMaze(maze)\n",
    "    return True\n",
    "\n",
    "  nextSteps = [(row, col+1), (row+1, col), (row, col-1), (row-1, col)]\n",
    "  for nextR, nextC in nextSteps:\n",
    "    if maze[nextR, nextC] == 1 and mazeSolver(maze, nextR, nextC, rowF, colF):\n",
    "      return True\n",
    "\n",
    "  maze[row, col] = 2  # por aquí no era (verde)\n",
    "  return False"
   ]
  },
  {
   "cell_type": "code",
   "execution_count": null,
   "metadata": {
    "collapsed": false
   },
   "outputs": [],
   "source": [
    "rows, cols = maze_bt_example.shape\n",
    "mazeSolver(maze_bt_example, 1, 1, rows - 2, cols - 2)\n",
    "drawMaze(maze_bt_example)"
   ]
  },
  {
   "cell_type": "markdown",
   "metadata": {
    "collapsed": false
   },
   "source": [
    "### MAS EJEMPLOS CON EL ALGORITMO"
   ]
  },
  {
   "cell_type": "code",
   "execution_count": null,
   "metadata": {
    "collapsed": false
   },
   "outputs": [],
   "source": [
    "maze_bt_1 = mb.makeMaze(50, 100)\n",
    "rows, cols = maze_bt_1.shape\n",
    "drawMaze(maze_bt_1)\n",
    "mazeSolver(maze_bt_1, 1, 1, rows - 2, cols - 2)\n",
    "drawMaze(maze_bt_1)"
   ]
  },
  {
   "cell_type": "markdown",
   "metadata": {
    "collapsed": false
   },
   "source": [
    "### OJO A LA RECURSIVIDAD"
   ]
  },
  {
   "cell_type": "code",
   "execution_count": null,
   "metadata": {
    "collapsed": false
   },
   "outputs": [],
   "source": [
    "maze_bt_error = mb.makeMaze(100, 200)\n",
    "print(maze_bt_error.shape)\n",
    "rows, cols = maze_bt_error.shape\n",
    "drawMaze(maze_bt_error)\n",
    "mazeSolver(maze_bt_error, 1, 1, rows - 2, cols - 2)\n",
    "drawMaze(maze_bt_error)\n"
   ]
  },
  {
   "cell_type": "markdown",
   "metadata": {
    "collapsed": false
   },
   "source": [
    "### Segundo algoritmo para resolver el laberinto"
   ]
  },
  {
   "cell_type": "code",
   "execution_count": null,
   "metadata": {
    "collapsed": false
   },
   "outputs": [],
   "source": [
    "def mazeSolver2(maze, rowI, colI, rowF, colF):\n",
    "  stack = [(rowI, colI)]\n",
    "\n",
    "  while stack:\n",
    "    #pdb.set_trace()\n",
    "    row, col = stack[-1]\n",
    "    if row == rowF and col == colF:\n",
    "      maze[row, col] = 3  # camino correcto (amarillo)\n",
    "      #drawMaze(maze)\n",
    "      return\n",
    "    elif maze[row, col] == 1:\n",
    "      maze[row, col] = 3  # camino correcto (amarillo)\n",
    "      nextSteps = [(row, col+1), (row+1, col), (row, col-1), (row-1, col)]\n",
    "      for nextR, nextC in nextSteps:\n",
    "        if maze[nextR, nextC] == 1:\n",
    "          stack.append((nextR, nextC))\n",
    "    elif maze[row, col] == 3:\n",
    "      maze[row, col] = 2\n",
    "      stack.pop()"
   ]
  },
  {
   "cell_type": "code",
   "execution_count": null,
   "metadata": {
    "collapsed": false
   },
   "outputs": [],
   "source": [
    "base = mb.makeMaze(100, 200)"
   ]
  },
  {
   "cell_type": "code",
   "execution_count": null,
   "metadata": {
    "collapsed": false
   },
   "outputs": [],
   "source": [
    "maze_bt2_1 = np.copy(base)\n",
    "print(maze_bt2_1.shape)\n",
    "rows, cols = maze_bt2_1.shape\n",
    "drawMaze(maze_bt2_1)\n",
    "mazeSolver2(maze_bt2_1, 1, 1, rows - 2, cols - 2)\n",
    "drawMaze(maze_bt2_1)"
   ]
  },
  {
   "cell_type": "markdown",
   "metadata": {
    "collapsed": false
   },
   "source": [
    "## Tercera forma de resolver el laberinto"
   ]
  },
  {
   "cell_type": "code",
   "execution_count": null,
   "metadata": {
    "collapsed": false
   },
   "outputs": [],
   "source": [
    "def mazeSolver3(maze, row, col, rowF, colF):\n",
    "  while True:\n",
    "    b = False\n",
    "    nextSteps = [(row, col+1), (row+1, col), (row, col-1), (row-1, col)]\n",
    "    for nextR, nextC in nextSteps:\n",
    "      if maze[nextR, nextC] == 1:\n",
    "        maze[row, col] = 3\n",
    "        row = nextR\n",
    "        col = nextC\n",
    "        b = True\n",
    "        break\n",
    "    if row == rowF and col == colF:\n",
    "      maze[row, col] = 3\n",
    "      #drawMaze(maze)\n",
    "      return\n",
    "    if not b:\n",
    "      for nextR, nextC in nextSteps:\n",
    "        if maze[nextR, nextC] == 3:\n",
    "          maze[row, col] = 2\n",
    "          row = nextR\n",
    "          col = nextC\n",
    "          break"
   ]
  },
  {
   "cell_type": "code",
   "execution_count": null,
   "metadata": {
    "collapsed": false
   },
   "outputs": [],
   "source": [
    "maze_bt3_1 = np.copy(base)\n",
    "print(maze_bt3_1.shape)\n",
    "rows, cols = maze_bt3_1.shape\n",
    "drawMaze(maze_bt3_1)\n",
    "mazeSolver3(maze_bt3_1, 1, 1, rows - 2, cols - 2)\n",
    "drawMaze(maze_bt3_1)"
   ]
  },
  {
   "cell_type": "markdown",
   "metadata": {
    "collapsed": false
   },
   "source": [
    "## Testeamos la eficiencia de cada algoritmo"
   ]
  },
  {
   "cell_type": "code",
   "execution_count": null,
   "metadata": {
    "collapsed": false
   },
   "outputs": [],
   "source": [
    "base_test = mb.makeMaze(50, 100)"
   ]
  },
  {
   "cell_type": "code",
   "execution_count": null,
   "metadata": {
    "collapsed": false
   },
   "outputs": [],
   "source": [
    "def test1():\n",
    "  maze = np.copy(base_test)\n",
    "  rows, cols = maze.shape\n",
    "  mazeSolver(maze, 1, 1, rows - 2, cols - 2)\n",
    "  return\n",
    "%timeit test1()"
   ]
  },
  {
   "cell_type": "code",
   "execution_count": null,
   "metadata": {
    "collapsed": false
   },
   "outputs": [],
   "source": [
    "def test2():\n",
    "  maze = np.copy(base_test)\n",
    "  rows, cols = maze.shape\n",
    "  mazeSolver2(maze, 1, 1, rows - 2, cols - 2)\n",
    "  return\n",
    "%timeit test2()"
   ]
  },
  {
   "cell_type": "code",
   "execution_count": null,
   "metadata": {
    "collapsed": false
   },
   "outputs": [],
   "source": [
    "def test3():\n",
    "  maze = np.copy(base_test)\n",
    "  rows, cols = maze.shape\n",
    "  mazeSolver3(maze, 1, 1, rows - 2, cols - 2)\n",
    "  return\n",
    "%timeit test3()"
   ]
  },
  {
   "cell_type": "code",
   "execution_count": null,
   "metadata": {
    "collapsed": false
   },
   "outputs": [],
   "source": [
    "def test4():\n",
    "  maze = np.copy(base_test)\n",
    "  rows, cols = maze.shape\n",
    "  bfs(maze, (1, 1), (rows - 2, cols - 2))\n",
    "  return\n",
    "%timeit test4()"
   ]
  },
  {
   "cell_type": "code",
   "execution_count": null,
   "metadata": {
    "collapsed": false
   },
   "outputs": [],
   "source": [
    "def test4():\n",
    "  maze = np.copy(base_test)\n",
    "  rows, cols = maze.shape\n",
    "  dfs(maze, (1, 1), (rows - 2, cols - 2))\n",
    "  return\n",
    "%timeit test4()"
   ]
  },
  {
   "cell_type": "markdown",
   "metadata": {
    "collapsed": false
   },
   "source": [
    "## Resolucion con A Star"
   ]
  },
  {
   "cell_type": "code",
   "execution_count": null,
   "metadata": {
    "collapsed": false
   },
   "outputs": [],
   "source": [
    "def h(a, b):\n",
    "    # manhattan\n",
    "    x0, y0 = a\n",
    "    x1, y1 = b\n",
    "    return abs(x0 - x1) + abs(y1 - y0)"
   ]
  },
  {
   "cell_type": "code",
   "execution_count": null,
   "metadata": {
    "collapsed": false
   },
   "outputs": [],
   "source": [
    "def a_star(maze, s, t):\n",
    "    n, m = maze.shape\n",
    "    g = np.full((n, m), math.inf)\n",
    "    f = np.full((n, m), math.inf)\n",
    "    path = np.full((n, m, 2), -1)\n",
    "    q = []\n",
    "    g[s] = 0\n",
    "    f[s] = h(s, t)\n",
    "    hq.heappush(q, (f[s], s))\n",
    "    while q:\n",
    "        _, u = hq.heappop(q)\n",
    "        if maze[u] != 1:\n",
    "            continue\n",
    "        maze[u] = 2\n",
    "        if u == t:\n",
    "            break\n",
    "        i, j = u\n",
    "        nbs = [(i-1, j), (i, j-1), (i, j+1), (i+1, j)]\n",
    "        for v in nbs:\n",
    "            if maze[v] == 1:\n",
    "                if g[u] + 1 < g[v]:\n",
    "                    path[v] = u\n",
    "                    g[v] = g[u] + 1\n",
    "                    f[v] = g[v] + h(v, t)\n",
    "                    hq.heappush(q, (f[v], v))\n",
    "    last = t\n",
    "    while last != s:\n",
    "        maze[last] = 3\n",
    "        last = tuple(path[last])"
   ]
  },
  {
   "cell_type": "code",
   "execution_count": null,
   "metadata": {
    "collapsed": false
   },
   "outputs": [],
   "source": [
    "plt.imshow(base_test, cmap=\"inferno\")"
   ]
  },
  {
   "cell_type": "code",
   "execution_count": null,
   "metadata": {
    "collapsed": false
   },
   "outputs": [],
   "source": [
    "n, m = base_test.shape\n",
    "copy = base_test.copy()\n",
    "a_star(copy, (11, 15), (n-2, m-2))\n",
    "plt.imshow(copy, cmap=\"inferno\")"
   ]
  }
 ],
 "metadata": {
  "kernelspec": {
   "display_name": "Python 3",
   "language": "python",
   "name": "python3"
  },
  "language_info": {
   "codemirror_mode": {
    "name": "ipython",
    "version": 2
   },
   "file_extension": ".py",
   "mimetype": "text/x-python",
   "name": "python",
   "nbconvert_exporter": "python",
   "pygments_lexer": "ipython2",
   "version": "2.7.6"
  }
 },
 "nbformat": 4,
 "nbformat_minor": 0
}
