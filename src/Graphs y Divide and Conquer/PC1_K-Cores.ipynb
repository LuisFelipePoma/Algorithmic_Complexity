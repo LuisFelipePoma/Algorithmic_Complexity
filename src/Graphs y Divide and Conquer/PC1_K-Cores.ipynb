{
 "cells": [
  {
   "cell_type": "code",
   "execution_count": null,
   "metadata": {
    "collapsed": false
   },
   "outputs": [],
   "source": [
    "import graphviz as gv"
   ]
  },
  {
   "cell_type": "code",
   "execution_count": null,
   "metadata": {
    "collapsed": true
   },
   "outputs": [],
   "source": [
    "%%file n_cores.in\n",
    "1 2\n",
    "0 2 5\n",
    "0 1 3 4 5 6\n",
    "2 4 6 7\n",
    "2 3 6 7\n",
    "1 2 6 8\n",
    "2 3 4 5 7 8\n",
    "3 4 6\n",
    "5 6"
   ]
  },
  {
   "cell_type": "code",
   "execution_count": null,
   "metadata": {
    "collapsed": false
   },
   "outputs": [],
   "source": [
    "def drawGraph(G, path = [],directed =  False):\n",
    "    g = gv.Digraph(\"nombre\") if directed else gv.Graph(\"nombre\")\n",
    "    n = len(G)\n",
    "\n",
    "    done = set()\n",
    "    for v, u in enumerate(path):\n",
    "        if u != -1:\n",
    "            g.edge(str(u), str(v), dir=\"forward\", penwidth=\"2\", color=\"orange\")\n",
    "            done.add((u, v))\n",
    "            done.add((v, u))\n",
    "    for u in range(n):\n",
    "        g.node(str(u))\n",
    "        for v in G[u]:\n",
    "            if not (u, v) in done:\n",
    "                done.add((u, v))\n",
    "                done.add((v, u))\n",
    "                g.edge(str(u), str(v))\n",
    "\n",
    "    return g"
   ]
  },
  {
   "cell_type": "code",
   "execution_count": null,
   "metadata": {
    "collapsed": false
   },
   "outputs": [],
   "source": [
    "with open(\"n_cores.in\") as f:\n",
    "    G = []\n",
    "    for line in f:\n",
    "        G.append([int(x) for x in line.split()])\n",
    "print(G)\n",
    "drawGraph(G)"
   ]
  },
  {
   "cell_type": "code",
   "execution_count": null,
   "metadata": {
    "collapsed": false
   },
   "outputs": [],
   "source": [
    "n = len(G)\n",
    "for u in range(n):\n",
    "    print(f\"Vertex {u} has grade {len(G[u])}\")"
   ]
  },
  {
   "cell_type": "markdown",
   "metadata": {
    "collapsed": false
   },
   "source": [
    "### Algoritmo por fuerza bruta para resolver el problema"
   ]
  },
  {
   "cell_type": "code",
   "execution_count": null,
   "metadata": {
    "collapsed": false
   },
   "outputs": [],
   "source": [
    "def k_core_FB(G,k):\n",
    "    n = len(G)\n",
    "    while True:\n",
    "        grades = [0]*n\n",
    "        for u in range(n):\n",
    "            grades[u] = len(G[u])\n",
    "        vertices = []\n",
    "        for u, grade in enumerate(grades):\n",
    "            if grade != 0 and grade < k:\n",
    "                vertices.append(u)\n",
    "        if len(vertices) == 0:\n",
    "            break\n",
    "        for x in vertices:\n",
    "            G[x] = []\n",
    "            for y in range(n):\n",
    "                if x in G[y]:\n",
    "                    G[y].remove(x)\n"
   ]
  },
  {
   "cell_type": "markdown",
   "metadata": {
    "collapsed": false
   },
   "source": [
    "### Algoritmo por una variacion de DFS  resolver el problema"
   ]
  },
  {
   "cell_type": "markdown",
   "metadata": {
    "collapsed": false
   },
   "source": [
    "#### Funcion para hallar los grados de cada nodo"
   ]
  },
  {
   "cell_type": "code",
   "execution_count": null,
   "metadata": {
    "collapsed": false
   },
   "outputs": [],
   "source": [
    "def calculate_grade(G):\n",
    "    grades = [0]*n\n",
    "    for u in range(n):\n",
    "        grades[u] = len(G[u])\n",
    "    return grades"
   ]
  },
  {
   "cell_type": "markdown",
   "metadata": {
    "collapsed": false
   },
   "source": [
    "#### Funcion siguiendo el concepto de DFS"
   ]
  },
  {
   "cell_type": "code",
   "execution_count": null,
   "metadata": {
    "collapsed": false
   },
   "outputs": [],
   "source": [
    "def k_core(G,k,inicio):\n",
    "    visit = [] # Lista para verificar nodos visitados\n",
    "    eliminate = [] # Lista para verificar nodos eliminados\n",
    "\n",
    "    def dfs_core(pos, visited, eliminated): # La sub_funcion recibe la (posicion, lista de nodos visitados, lista de nodos eliminados)\n",
    "            grades = calculate_grade(G)\n",
    "            # IF que verifica la posicion no es una ya visitada\n",
    "            if pos not in visited:\n",
    "                visited.append(pos)\n",
    "            # FOR para recorrer los nodos relacionados a ese nodo\n",
    "            for i in G[pos]:\n",
    "                # IF que verifica que el nodo no esta ya eliminado por una iteracion previa, en caso lo este, sera eliminado de la lista\n",
    "                if i in eliminated:\n",
    "                    G[pos].remove(i)\n",
    "                    ## IF que verifica si el nodo padre esta en visitados, este sera eliminado de visitados ---> ya que necesita\n",
    "                    ## ser revisado nuevamente debido a los cambios realizado\n",
    "                    if pos in visited:\n",
    "                        visited.remove(pos)\n",
    "                    # Como se eliminaron nodos, es necesario calcular el grado nuevamente para el IF que sigue en la secuencia\n",
    "                    grades = calculate_grade(G)\n",
    "                # IF que verifica que el nodo cumpla con los requisito del grado minimo para no ser eliminado\n",
    "                if grades[pos] < k and grades[pos] != 0:\n",
    "                    G[pos] = []\n",
    "                    ## Al ser eliminado se agrega a lista eliminados para ser posteriormente eliminado en otros nodos\n",
    "                    if pos not in eliminated:\n",
    "                        eliminated.append(pos)\n",
    "                # IF para poder detener la recursividad haciendo de uso a la lista visitados\n",
    "                # La recursividad se detendra una vez todos los nodos esten visitados ----> es decir ---> Todos los nodos estan verificados\n",
    "                if i not in visited:\n",
    "                    # Llama recursivamente a si mismo a los nodos que no esten visitados en esa posicion\n",
    "                    dfs_core(i, visited, eliminated)\n",
    "    # Inicio de la funcion recursiva  ----> inicio == Nodo de donde empezara el algoritmo\n",
    "    dfs_core(inicio, visit, eliminate)\n",
    "    # Retorna la lista de los nodos eliminados\n",
    "    return eliminate\n"
   ]
  },
  {
   "cell_type": "markdown",
   "metadata": {
    "collapsed": false
   },
   "source": [
    "#### Funcion para imprimir en lista el grafo"
   ]
  },
  {
   "cell_type": "code",
   "execution_count": null,
   "metadata": {
    "collapsed": false
   },
   "outputs": [],
   "source": [
    "def print_kcores(G):\n",
    "    for w,i in enumerate(G):\n",
    "        print(str(\"\\n [ \") + str(w) + str(\" ]\"), end=\" \")\n",
    "        for j in G[w]:\n",
    "            print(\"-> \" + str(j), end=\" \")"
   ]
  },
  {
   "cell_type": "code",
   "execution_count": null,
   "metadata": {
    "collapsed": false
   },
   "outputs": [],
   "source": [
    "print(G)\n",
    "print_kcores(G)\n",
    "eliminates = k_core(G,3,0)"
   ]
  },
  {
   "cell_type": "code",
   "execution_count": null,
   "metadata": {
    "collapsed": false
   },
   "outputs": [],
   "source": [
    "print(G)\n",
    "print(eliminates)\n",
    "print_kcores(G)\n",
    "drawGraph(G)"
   ]
  }
 ],
 "metadata": {
  "kernelspec": {
   "display_name": "Python 3",
   "language": "python",
   "name": "python3"
  },
  "language_info": {
   "codemirror_mode": {
    "name": "ipython",
    "version": 2
   },
   "file_extension": ".py",
   "mimetype": "text/x-python",
   "name": "python",
   "nbconvert_exporter": "python",
   "pygments_lexer": "ipython2",
   "version": "2.7.6"
  }
 },
 "nbformat": 4,
 "nbformat_minor": 0
}
