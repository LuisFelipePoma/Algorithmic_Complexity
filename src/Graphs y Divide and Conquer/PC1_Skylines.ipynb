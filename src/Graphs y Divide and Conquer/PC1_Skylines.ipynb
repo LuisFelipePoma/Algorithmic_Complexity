{
 "cells": [
  {
   "cell_type": "markdown",
   "metadata": {
    "collapsed": false
   },
   "source": [
    "# DIVIDE Y VENCERAS"
   ]
  },
  {
   "cell_type": "code",
   "execution_count": null,
   "metadata": {
    "collapsed": true
   },
   "outputs": [],
   "source": [
    "import matplotlib.pyplot as plt\n",
    "from matplotlib.colorbar import contorno"
   ]
  },
  {
   "cell_type": "markdown",
   "metadata": {
    "collapsed": false
   },
   "source": [
    "### Definimos las coordenadas de las rectas"
   ]
  },
  {
   "cell_type": "code",
   "execution_count": null,
   "metadata": {
    "collapsed": false
   },
   "outputs": [],
   "source": [
    "rects=[(3,13,9),(1,11,5),(19,18,22),(3,6,7),(16,3,25),(12,7,16)]"
   ]
  },
  {
   "cell_type": "markdown",
   "metadata": {
    "collapsed": false
   },
   "source": [
    "### Definimos funcion para imprimir las rectas"
   ]
  },
  {
   "cell_type": "code",
   "execution_count": null,
   "metadata": {
    "collapsed": false
   },
   "outputs": [],
   "source": [
    "def showRect(recta):\n",
    "  g,h,d = recta\n",
    "  points = [(g,0),(g,h),(d,h),(d,0),(g,0)]\n",
    "  x,y = zip(*points)\n",
    "  plt.plot(x,y)"
   ]
  },
  {
   "cell_type": "code",
   "execution_count": null,
   "metadata": {
    "collapsed": false
   },
   "outputs": [],
   "source": [
    "for rect in rects:\n",
    "  showRect(rect)\n",
    "plt.show()"
   ]
  },
  {
   "cell_type": "markdown",
   "metadata": {
    "collapsed": false
   },
   "source": [
    "## Empleamos el algoritmo Divide y Venceras"
   ]
  },
  {
   "cell_type": "markdown",
   "metadata": {
    "collapsed": false
   },
   "source": [
    "### Creamos una funcion que recibe las coordenadas y las convierte en una nueva ----> (x,y,z) -> [(g,h),(d,0)]"
   ]
  },
  {
   "cell_type": "code",
   "execution_count": null,
   "metadata": {
    "collapsed": false
   },
   "outputs": [],
   "source": [
    "  def getContour(recta):\n",
    "    g,h,d = recta\n",
    "    return [(g,h),(d,0)]"
   ]
  },
  {
   "cell_type": "markdown",
   "metadata": {
    "collapsed": false
   },
   "source": [
    "### Creamos una funcion que usa la nueva coordinated que sirve para imprimir el contorno de la figura original"
   ]
  },
  {
   "cell_type": "code",
   "execution_count": null,
   "metadata": {
    "collapsed": false
   },
   "outputs": [],
   "source": [
    "def showContour(contour):\n",
    "  temp=[(0,0)]\n",
    "  # Este FOR recoge las coordenadas y las aplica a las variables a,b ----->  a = (g,h) & b = (d,0)\n",
    "  for a,b in contour:\n",
    "    temp.append((a,temp[-1][1]))\n",
    "    temp.append((a,b))\n",
    "  # zip(*tmp) -> Empareja en pares los elementos de la misma posicion\n",
    "  x,y = zip(*temp)\n",
    "  plt.plot(x,y)"
   ]
  },
  {
   "cell_type": "code",
   "execution_count": null,
   "metadata": {
    "collapsed": false
   },
   "outputs": [],
   "source": [
    "showContour(getContour(rects[0]))"
   ]
  },
  {
   "cell_type": "markdown",
   "metadata": {
    "collapsed": false
   },
   "source": [
    "### Hacemos uso de la funcion que halla bordes en nuestra lista objetivo"
   ]
  },
  {
   "cell_type": "code",
   "execution_count": null,
   "metadata": {
    "collapsed": false
   },
   "outputs": [],
   "source": [
    "for rect in rects:\n",
    "  showContour(getContour(rect))"
   ]
  },
  {
   "cell_type": "markdown",
   "metadata": {
    "collapsed": false
   },
   "source": [
    "## Creamos una funcion que verifica los contornos que se van a añadir a la lista contour"
   ]
  },
  {
   "cell_type": "code",
   "execution_count": null,
   "metadata": {
    "collapsed": false
   },
   "outputs": [],
   "source": [
    "def add(contour,x,y):\n",
    "  if len(contour) > 1:\n",
    "    if contour[-1][0] == x:\n",
    "      contour[-1] = (x,max(y,contour[-1][1]))\n",
    "      return\n",
    "    elif contour [-1][1] ==y:\n",
    "      return\n",
    "  contour.append((x,y))"
   ]
  },
  {
   "cell_type": "markdown",
   "metadata": {
    "collapsed": false
   },
   "source": [
    "### Creamos una funcion que une(merge) dos coordenadas pares -> [(g,h),(d,0)] x 2"
   ]
  },
  {
   "cell_type": "code",
   "execution_count": null,
   "metadata": {
    "collapsed": false
   },
   "outputs": [],
   "source": [
    "def merge(c1,c2):\n",
    "  n1 = len(c1)\n",
    "  n2 = len(c2)\n",
    "  i1,i2 = 0,0\n",
    "  y1,y2 = 0,0\n",
    "  contour = []\n",
    "  while i1 < n1 or i2 < n2:\n",
    "    if i1 >= n1 or i2 < n2 and c2 [i2][0] <= c1[i1][0]:\n",
    "      x,y2 = c2[i2]\n",
    "      i2 += 1\n",
    "    else:\n",
    "      x,y1 = c1[i1]\n",
    "      i1 += 1\n",
    "    y = max(y1,y2)\n",
    "    add(contour,x,y)\n",
    "  return contour"
   ]
  },
  {
   "cell_type": "markdown",
   "metadata": {
    "collapsed": false
   },
   "source": [
    "### Se crea la funcion en base a Divide y Venceras para resolver el problema ---> Este divide el problema en dos mitades y asi sigue recursivamente"
   ]
  },
  {
   "cell_type": "code",
   "execution_count": null,
   "metadata": {
    "collapsed": false
   },
   "outputs": [],
   "source": [
    "def skyline(rectas, i, j):\n",
    "  if i == j:\n",
    "    return getContour(rectas[i])\n",
    "  mid = (i+j) // 2\n",
    "  c1 = skyline(rectas, i, mid)\n",
    "  c2 = skyline(rectas, mid + 1, j)\n",
    "  return merge(c1,c2)"
   ]
  },
  {
   "cell_type": "code",
   "execution_count": null,
   "metadata": {
    "collapsed": false
   },
   "outputs": [],
   "source": [
    "contorno = skyline (rects, 0, len(rects) - 1)\n",
    "showContour(contorno)"
   ]
  }
 ],
 "metadata": {
  "kernelspec": {
   "display_name": "Python 3",
   "language": "python",
   "name": "python3"
  },
  "language_info": {
   "codemirror_mode": {
    "name": "ipython",
    "version": 2
   },
   "file_extension": ".py",
   "mimetype": "text/x-python",
   "name": "python",
   "nbconvert_exporter": "python",
   "pygments_lexer": "ipython2",
   "version": "2.7.6"
  }
 },
 "nbformat": 4,
 "nbformat_minor": 0
}
