{
 "cells": [
  {
   "cell_type": "markdown",
   "source": [
    "## Reading input as a file"
   ],
   "metadata": {
    "collapsed": false
   }
  },
  {
   "cell_type": "code",
   "execution_count": 7,
   "outputs": [
    {
     "name": "stdout",
     "output_type": "stream",
     "text": [
      "Overwriting 1.in\n"
     ]
    }
   ],
   "source": [
    "%%file 1.in\n",
    "5 7\n",
    "878 323\n",
    "1 1"
   ],
   "metadata": {
    "collapsed": false
   }
  },
  {
   "cell_type": "code",
   "execution_count": 8,
   "outputs": [],
   "source": [
    "def solve(m,n,m0,n0,m1,n1):\n",
    "  mc = m0 + m1\n",
    "  nc = n0 + n1\n",
    "  if mc == n and nc == n:\n",
    "    return \" \"\n",
    "  if m / n < mc / nc:\n",
    "    return f\"L{solve(m, n, m0, n0, mc, nc)}\"\n",
    "  else:\n",
    "    return f\"R{solve(m, n, mc, nc, m1, n1)}\""
   ],
   "metadata": {
    "collapsed": false
   }
  },
  {
   "cell_type": "code",
   "execution_count": null,
   "outputs": [],
   "source": [
    "with open(\"1.in\") as f:\n",
    "  for line in f:\n",
    "    m, n = [int(x) for x in line.split()]\n",
    "    if m == 1 and n == 1:\n",
    "      break\n",
    "    r = solve(m,n,0,1,1,0)"
   ],
   "metadata": {
    "collapsed": false,
    "pycharm": {
     "is_executing": true
    }
   }
  },
  {
   "cell_type": "markdown",
   "source": [
    "## Reading input as stdin"
   ],
   "metadata": {
    "collapsed": false
   }
  },
  {
   "cell_type": "code",
   "execution_count": 1,
   "outputs": [
    {
     "name": "stdout",
     "output_type": "stream",
     "text": [
      "Overwriting solve.py\n"
     ]
    }
   ],
   "source": [
    "%%file solve.py\n",
    "def solve2(m,n,m0,n0,m1,n1):\n",
    "  mc = m0 + m1\n",
    "  nc = n0 + n1\n",
    "  if mc == n and nc == n:\n",
    "    return \" \"\n",
    "  if m / n < mc/nc :\n",
    "    return f\"L{solve2(m, n, m0, n0, mc, nc)}\"\n",
    "  else:\n",
    "    return f\"R{solve2(m, n, mc, nc, m1, n1)}\"\n",
    "while True:\n",
    "    m, n = [int(x) for x in input().split()]\n",
    "    if m == 1 and n == 1:\n",
    "      break\n",
    "    resp = solve2(m, n, 0, 1, 1, 0)"
   ],
   "metadata": {
    "collapsed": false
   }
  },
  {
   "cell_type": "code",
   "execution_count": 2,
   "outputs": [
    {
     "name": "stderr",
     "output_type": "stream",
     "text": [
      "Traceback (most recent call last):\n",
      "  File \"C:\\Users\\Lfpa0\\OneDrive\\Documentos\\Codes\\Tests\\Notebooks\\solve.py\", line 14, in <module>\n",
      "    resp = solve2(m, n, 0, 1, 1, 0)\n",
      "  File \"C:\\Users\\Lfpa0\\OneDrive\\Documentos\\Codes\\Tests\\Notebooks\\solve.py\", line 7, in solve2\n",
      "    return f\"L{solve2(m, n, m0, n0, mc, nc)}\"\n",
      "  File \"C:\\Users\\Lfpa0\\OneDrive\\Documentos\\Codes\\Tests\\Notebooks\\solve.py\", line 9, in solve2\n",
      "    return f\"R{solve2(m, n, mc, nc, m1, n1)}\"\n",
      "  File \"C:\\Users\\Lfpa0\\OneDrive\\Documentos\\Codes\\Tests\\Notebooks\\solve.py\", line 9, in solve2\n",
      "    return f\"R{solve2(m, n, mc, nc, m1, n1)}\"\n",
      "  File \"C:\\Users\\Lfpa0\\OneDrive\\Documentos\\Codes\\Tests\\Notebooks\\solve.py\", line 7, in solve2\n",
      "    return f\"L{solve2(m, n, m0, n0, mc, nc)}\"\n",
      "  File \"C:\\Users\\Lfpa0\\OneDrive\\Documentos\\Codes\\Tests\\Notebooks\\solve.py\", line 9, in solve2\n",
      "    return f\"R{solve2(m, n, mc, nc, m1, n1)}\"\n",
      "  File \"C:\\Users\\Lfpa0\\OneDrive\\Documentos\\Codes\\Tests\\Notebooks\\solve.py\", line 7, in solve2\n",
      "    return f\"L{solve2(m, n, m0, n0, mc, nc)}\"\n",
      "  File \"C:\\Users\\Lfpa0\\OneDrive\\Documentos\\Codes\\Tests\\Notebooks\\solve.py\", line 7, in solve2\n",
      "    return f\"L{solve2(m, n, m0, n0, mc, nc)}\"\n",
      "  File \"C:\\Users\\Lfpa0\\OneDrive\\Documentos\\Codes\\Tests\\Notebooks\\solve.py\", line 7, in solve2\n",
      "    return f\"L{solve2(m, n, m0, n0, mc, nc)}\"\n",
      "  [Previous line repeated 990 more times]\n",
      "  File \"C:\\Users\\Lfpa0\\OneDrive\\Documentos\\Codes\\Tests\\Notebooks\\solve.py\", line 4, in solve2\n",
      "    if mc == n and nc == n:\n",
      "RecursionError: maximum recursion depth exceeded in comparison\n"
     ]
    }
   ],
   "source": [
    "!python solve.py < 1.in"
   ],
   "metadata": {
    "collapsed": false
   }
  }
 ],
 "metadata": {
  "kernelspec": {
   "display_name": "Python 3",
   "language": "python",
   "name": "python3"
  },
  "language_info": {
   "codemirror_mode": {
    "name": "ipython",
    "version": 2
   },
   "file_extension": ".py",
   "mimetype": "text/x-python",
   "name": "python",
   "nbconvert_exporter": "python",
   "pygments_lexer": "ipython2",
   "version": "2.7.6"
  }
 },
 "nbformat": 4,
 "nbformat_minor": 0
}
