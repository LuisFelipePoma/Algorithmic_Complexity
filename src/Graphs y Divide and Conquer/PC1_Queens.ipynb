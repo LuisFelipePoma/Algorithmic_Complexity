{
 "cells": [
  {
   "cell_type": "markdown",
   "metadata": {
    "collapsed": false
   },
   "source": [
    "# Queens"
   ]
  },
  {
   "cell_type": "code",
   "execution_count": null,
   "metadata": {
    "collapsed": true
   },
   "outputs": [],
   "source": [
    "import numpy as np\n",
    "import matplotlib.pyplot as plt"
   ]
  },
  {
   "cell_type": "markdown",
   "metadata": {
    "collapsed": false
   },
   "source": [
    "#DIBUJAMOS EL TABLERO"
   ]
  },
  {
   "cell_type": "code",
   "execution_count": null,
   "metadata": {
    "collapsed": false
   },
   "outputs": [],
   "source": [
    "def drawBoard(board):\n",
    "  number_elements = len(board)\n",
    "  board_ = np.zeros((number_elements, number_elements), dtype = int)\n",
    "  board_[::2, ::2] = 1\n",
    "  board_[1::2,1::2] = 1\n",
    "  _,ax = plt.subplots() # no hace nada aparentemente\n",
    "  plt.imshow(board_)\n",
    "  for row,col in enumerate(board):\n",
    "    plt.text(col, row,'♕', fontsize =150 / number_elements, va=\"center\", ha=\"center\")"
   ]
  },
  {
   "cell_type": "code",
   "execution_count": null,
   "metadata": {
    "collapsed": false
   },
   "outputs": [],
   "source": [
    "drawBoard([0,1,2,3])"
   ]
  },
  {
   "cell_type": "markdown",
   "metadata": {
    "collapsed": false
   },
   "source": [
    "# BACKTRACKING\n"
   ]
  },
  {
   "cell_type": "markdown",
   "metadata": {
    "collapsed": false
   },
   "source": [
    "### Definimos primero la funcion con el backtracking"
   ]
  },
  {
   "cell_type": "code",
   "execution_count": null,
   "metadata": {
    "collapsed": false
   },
   "outputs": [],
   "source": [
    "def n_queen(board,row):\n",
    "  number_elementos = len(board)\n",
    "  if row == number_elementos:\n",
    "    drawBoard(board)\n",
    "  else:\n",
    "    for col in range(number_elementos):\n",
    "      #LA FUNCION PARA VALIDAR\n",
    "      if isCorrect(board,row,col):\n",
    "        board[row] = col\n",
    "        n_queen(board,row + 1)"
   ]
  },
  {
   "cell_type": "markdown",
   "metadata": {
    "collapsed": false
   },
   "source": [
    "### Definimos la funcion que valida"
   ]
  },
  {
   "cell_type": "code",
   "execution_count": null,
   "metadata": {
    "collapsed": false
   },
   "outputs": [],
   "source": [
    "def isCorrect(board,row,col):\n",
    "  for row_i in range(row):\n",
    "    delta = row - row_i\n",
    "    col_right = board[row_i] + delta\n",
    "    col_left = board[row_i] - delta\n",
    "    if board[row_i] == col or col == col_right or col== col_left:\n",
    "      return False\n",
    "  return True"
   ]
  },
  {
   "cell_type": "markdown",
   "metadata": {
    "collapsed": false
   },
   "source": [
    "### Ejecutamos"
   ]
  },
  {
   "cell_type": "code",
   "execution_count": null,
   "metadata": {
    "collapsed": false
   },
   "outputs": [],
   "source": [
    "board = [-1,-1,-1,-1]\n",
    "drawBoard(board)"
   ]
  },
  {
   "cell_type": "code",
   "execution_count": null,
   "metadata": {
    "collapsed": false
   },
   "outputs": [],
   "source": [
    "n = 4\n",
    "n_queen(board,0)"
   ]
  }
 ],
 "metadata": {
  "kernelspec": {
   "display_name": "Python 3.9.13 ('base')",
   "language": "python",
   "name": "python3"
  },
  "language_info": {
   "codemirror_mode": {
    "name": "ipython",
    "version": 3
   },
   "file_extension": ".py",
   "mimetype": "text/x-python",
   "name": "python",
   "nbconvert_exporter": "python",
   "pygments_lexer": "ipython3",
   "version": "3.9.13"
  },
  "vscode": {
   "interpreter": {
    "hash": "427b8541cfc07e6fbe7ab4a5298567b1b3022ff2b70fdb07d029f33f0434686a"
   }
  }
 },
 "nbformat": 4,
 "nbformat_minor": 0
}
