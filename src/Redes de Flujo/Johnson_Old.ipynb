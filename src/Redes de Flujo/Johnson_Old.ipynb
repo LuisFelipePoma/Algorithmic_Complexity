{
 "cells": [
  {
   "cell_type": "code",
   "execution_count": null,
   "metadata": {
    "collapsed": true
   },
   "outputs": [],
   "source": [
    "import math\n",
    "import heapq as hq\n",
    "import numpy as np\n",
    "from graphstuff import adjlShow"
   ]
  },
  {
   "cell_type": "code",
   "execution_count": null,
   "metadata": {
    "collapsed": false
   },
   "outputs": [],
   "source": [
    "def dijkstra(G, s):\n",
    "  n = len(G)\n",
    "  cost = [float('inf')]*n\n",
    "  cost[s] = 0\n",
    "  path = [-1]*n\n",
    "  visited = [False]*n\n",
    "\n",
    "  queue = [(0, s)]\n",
    "\n",
    "  while queue:\n",
    "    c, u = hq.heappop(queue)\n",
    "    if visited[u]: continue\n",
    "    visited[u] = True\n",
    "    for v, w in G[u]:\n",
    "      if not visited[v] and c + w < cost[v] :\n",
    "        cost[v] = c + w\n",
    "        path[v] = u\n",
    "        hq.heappush(queue, (cost[v], v))\n",
    "\n",
    "  return path,cost"
   ]
  },
  {
   "cell_type": "code",
   "execution_count": null,
   "metadata": {
    "collapsed": false
   },
   "outputs": [],
   "source": [
    "def bellmanFord(G, s):\n",
    "  n = len(G)\n",
    "\n",
    "  # initialize\n",
    "  cost = [float('inf')]*n\n",
    "  cost[s] = 0\n",
    "  path = [-1]*n\n",
    "\n",
    "  # relax\n",
    "  for _ in range(n-1):\n",
    "    for u in range(n):\n",
    "      for v, w in G[u]:\n",
    "        if cost[u] + w < cost[v]:\n",
    "          cost[v] = cost[u] + w\n",
    "          path[v] = u\n",
    "\n",
    "  # check negative cycle\n",
    "  for u in range(n):\n",
    "    for v, w in G[u]:\n",
    "      if cost[u] + w < cost[v]:\n",
    "        return None, None # negative cycle exists\n",
    "\n",
    "  return path, cost"
   ]
  },
  {
   "cell_type": "code",
   "execution_count": null,
   "metadata": {
    "collapsed": false
   },
   "outputs": [],
   "source": [
    "def johnson(G):\n",
    "  n = len(G)\n",
    "\n",
    "  # initialize\n",
    "  G.append([(0, 0)])\n",
    "\n",
    "  # aplicar bellman ford\n",
    "  _, g = bellmanFord(G, n)\n",
    "\n",
    "  if not g: return None\n",
    "\n",
    "  # initialize\n",
    "\n",
    "  # create G'\n",
    "  Gprime = [[] for _ in range(n)]\n",
    "  for u in range(n):\n",
    "    for v, w in G[u]:\n",
    "      Gprime[u].append((v, w + g[u] - g[v])) # :O\n",
    "\n",
    "  # dijkstra empezando en cada vertice\n",
    "  path = []\n",
    "  cost = []\n",
    "  for u in range(n):\n",
    "    p, c = dijkstra(Gprime, u)\n",
    "    path.append(p)\n",
    "    cost.append(c)\n",
    "\n",
    "\n",
    "  # eliminar ultimo vertice\n",
    "  G.pop()\n",
    "\n",
    "  return path, cost"
   ]
  },
  {
   "cell_type": "code",
   "execution_count": null,
   "metadata": {
    "collapsed": false
   },
   "outputs": [],
   "source": [
    "%%file 1.in\n",
    "1 2\n",
    "2 -1\n",
    "0 4 3 2 4 -4\n",
    "\n",
    "\n",
    "3 1 4 -4"
   ]
  },
  {
   "cell_type": "code",
   "execution_count": null,
   "metadata": {
    "collapsed": false
   },
   "outputs": [],
   "source": [
    "with open(\"1.in\") as f:\n",
    "  G = []\n",
    "  for line in f:\n",
    "      if line.startswith(\"-\"):\n",
    "          G.append([])\n",
    "      else:\n",
    "          nums = [int(x) for x in line.split()]\n",
    "          G.append([(nums[i], nums[i+1]) for i in range(0, len(nums), 2)])\n",
    "  for x in G:\n",
    "    print(x)"
   ]
  },
  {
   "cell_type": "code",
   "execution_count": null,
   "metadata": {
    "collapsed": false
   },
   "outputs": [],
   "source": [
    "adjlShow(G, weighted=True, layout=\"neato\")"
   ]
  },
  {
   "cell_type": "code",
   "execution_count": null,
   "metadata": {
    "collapsed": false
   },
   "outputs": [],
   "source": [
    "path, cost = johnson(G)\n",
    "print(path)\n"
   ]
  },
  {
   "cell_type": "code",
   "execution_count": null,
   "metadata": {
    "collapsed": false
   },
   "outputs": [],
   "source": [
    "cost"
   ]
  },
  {
   "cell_type": "code",
   "execution_count": null,
   "metadata": {
    "collapsed": false
   },
   "outputs": [],
   "source": [
    "adjlShow(G, weighted=True,path= path[0], layout=\"neato\")"
   ]
  }
 ],
 "metadata": {
  "kernelspec": {
   "display_name": "Python 3",
   "language": "python",
   "name": "python3"
  },
  "language_info": {
   "codemirror_mode": {
    "name": "ipython",
    "version": 2
   },
   "file_extension": ".py",
   "mimetype": "text/x-python",
   "name": "python",
   "nbconvert_exporter": "python",
   "pygments_lexer": "ipython2",
   "version": "2.7.6"
  }
 },
 "nbformat": 4,
 "nbformat_minor": 0
}
