{
 "cells": [
  {
   "cell_type": "code",
   "execution_count": null,
   "metadata": {
    "collapsed": false
   },
   "outputs": [],
   "source": [
    "import math\n",
    "import heapq as hq\n",
    "import numpy as np\n",
    "from graphstuff import adjlShow"
   ]
  },
  {
   "cell_type": "code",
   "execution_count": null,
   "metadata": {
    "collapsed": false
   },
   "outputs": [],
   "source": [
    "%%file 1.in\n",
    "1 2\n",
    "2 -1\n",
    "0 4 3 2 4 -4\n",
    "\n",
    "\n",
    "3 1 4 -4"
   ]
  },
  {
   "cell_type": "code",
   "execution_count": null,
   "metadata": {
    "collapsed": true
   },
   "outputs": [],
   "source": [
    "def bellmanFordW(G, s): # returns the path π and and whether or not a negative cycle exists\n",
    "    n = len(G)                      # |V|\n",
    "    path = [-1]*n                      # path\n",
    "    g = [math.inf]*n                # cost\n",
    "    g[s] = 0\n",
    "\n",
    "    for _ in range(n-1):            # repetir |V| - 1 veces\n",
    "        for u in range(n):\n",
    "            for v, w in G[u]:       # para cada arco (u, v, con peso w) de E\n",
    "                f = g[u] + w\n",
    "                if f < g[v]:        # relax(u, v, w)\n",
    "                    g[v] = f\n",
    "                    path[v] = u\n",
    "\n",
    "    for u in range(n):              # para cada arco (u, v, con peso w) de E\n",
    "        for v, w in G[u]:\n",
    "            f = g[u] + w\n",
    "            if f < g[v]:            # se puede relajar?\n",
    "                return None         # existe ciclo negativo\n",
    "\n",
    "    return g"
   ]
  },
  {
   "cell_type": "code",
   "execution_count": null,
   "metadata": {
    "collapsed": false
   },
   "outputs": [],
   "source": [
    "def dijkstra(G,s,path,cost):\n",
    "  n = len(G)\n",
    "  visited = [False]*n\n",
    "  cost[s] = 0\n",
    "  pq = []\n",
    "  hq.heappush(pq, (0,s))\n",
    "  while pq:\n",
    "    g, u = hq.heappop(pq)\n",
    "    visited[u] = True\n",
    "    for v, w in G[u]:\n",
    "      f = cost[u] + w\n",
    "      if not visited[v] and f < cost[v]:\n",
    "        cost[v] = f\n",
    "        path[v] = u\n",
    "        hq.heappush(pq, (f, v))\n",
    "  return path,cost"
   ]
  },
  {
   "cell_type": "code",
   "execution_count": null,
   "metadata": {
    "collapsed": false
   },
   "outputs": [],
   "source": [
    "def johnson(G):\n",
    "    n = len(G)\n",
    "    G.append([(0,0)])\n",
    "    g = bellmanFordW(G,n)\n",
    "    if g is None:\n",
    "        return None\n",
    "    del G[n]\n",
    "    for u in range(n):\n",
    "        for i in range(len(G[u])):\n",
    "            v,w  = G[u][i]\n",
    "            w = w + g[u] - g[v]\n",
    "            G[u][i] = (v,w)\n",
    "    path = np.full((n,n),-1,dtype=int)\n",
    "    cost = np.full((n,n),math.inf)\n",
    "    for u in range(n):\n",
    "        dijkstra(G,u,path[u],cost[u])\n",
    "    return path,cost\n"
   ]
  },
  {
   "cell_type": "code",
   "execution_count": null,
   "metadata": {
    "collapsed": false
   },
   "outputs": [],
   "source": [
    "with open(\"1.in\") as f:\n",
    "  G = []\n",
    "  for line in f:\n",
    "      if line.startswith(\"-\"):\n",
    "          G.append([])\n",
    "      else:\n",
    "          nums = [int(x) for x in line.split()]\n",
    "          G.append([(nums[i], nums[i+1]) for i in range(0, len(nums), 2)])\n",
    "  for x in G:\n",
    "    print(x)"
   ]
  },
  {
   "cell_type": "code",
   "execution_count": null,
   "metadata": {
    "collapsed": false
   },
   "outputs": [],
   "source": [
    "adjlShow(G, weighted=True, layout=\"neato\")"
   ]
  },
  {
   "cell_type": "code",
   "execution_count": null,
   "metadata": {
    "collapsed": false
   },
   "outputs": [],
   "source": [
    "path, cost = johnson(G)\n",
    "print(path)\n",
    "print(cost)"
   ]
  },
  {
   "cell_type": "code",
   "execution_count": null,
   "metadata": {
    "collapsed": false
   },
   "outputs": [],
   "source": [
    "adjlShow(G, weighted=True,path= path[0], layout=\"neato\")"
   ]
  }
 ],
 "metadata": {
  "kernelspec": {
   "display_name": "Python 3",
   "language": "python",
   "name": "python3"
  },
  "language_info": {
   "codemirror_mode": {
    "name": "ipython",
    "version": 2
   },
   "file_extension": ".py",
   "mimetype": "text/x-python",
   "name": "python",
   "nbconvert_exporter": "python",
   "pygments_lexer": "ipython2",
   "version": "2.7.6"
  }
 },
 "nbformat": 4,
 "nbformat_minor": 0
}
