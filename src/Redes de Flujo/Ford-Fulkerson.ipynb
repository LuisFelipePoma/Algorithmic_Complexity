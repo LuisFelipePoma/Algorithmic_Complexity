{
 "cells": [
  {
   "cell_type": "code",
   "execution_count": null,
   "metadata": {
    "collapsed": true
   },
   "outputs": [],
   "source": [
    "import math\n",
    "import numpy as np"
   ]
  },
  {
   "cell_type": "code",
   "execution_count": null,
   "metadata": {
    "collapsed": false
   },
   "outputs": [],
   "source": [
    "def dfs(G, s, t):\n",
    "    n = len(G)\n",
    "    visited = [False]*n\n",
    "    path = [-1]*n\n",
    "    stack = [s]\n",
    "    while stack:\n",
    "        u = stack.pop()\n",
    "        if u == t:\n",
    "            break\n",
    "        if not visited[u]:\n",
    "            visited[u] = True\n",
    "            for v in reversed(range(n)):\n",
    "                if G[u][v] > 0 and not visited[v]:\n",
    "                    stack.append(v)\n",
    "                    path[v] = u\n",
    "\n",
    "    p = [t]\n",
    "    bottleneck = math.inf\n",
    "    while path[t] != -1:\n",
    "        if G[path[t]][t] < bottleneck:\n",
    "            bottleneck = G[path[t]][t]\n",
    "        t = path[t]\n",
    "        p.append(t)\n",
    "\n",
    "    return p, bottleneck"
   ]
  },
  {
   "cell_type": "code",
   "execution_count": null,
   "metadata": {
    "collapsed": false
   },
   "outputs": [],
   "source": [
    "%%file graph.x\n",
    "0 6 4 1 0 0 0\n",
    "0 0 0 0 4 0 0\n",
    "0 0 0 3 1 3 0\n",
    "0 0 0 0 0 4 0\n",
    "0 0 0 0 0 0 4\n",
    "0 0 0 0 0 0 9\n",
    "0 0 0 0 0 0 0"
   ]
  },
  {
   "cell_type": "code",
   "execution_count": null,
   "metadata": {
    "collapsed": false
   },
   "outputs": [],
   "source": [
    "G = np.loadtxt(\"graph.x\", dtype=int, delimiter=\" \")\n",
    "G"
   ]
  },
  {
   "cell_type": "code",
   "execution_count": null,
   "metadata": {
    "collapsed": false
   },
   "outputs": [],
   "source": [
    "labels = ['I', 'A', 'B', 'C', 'D', 'E', 'F']"
   ]
  },
  {
   "cell_type": "code",
   "execution_count": null,
   "metadata": {
    "collapsed": false
   },
   "outputs": [],
   "source": [
    "path, bn = dfs(G, 0, 6)\n",
    "[labels[x] for x in reversed(path)], bn"
   ]
  },
  {
   "cell_type": "code",
   "execution_count": null,
   "metadata": {
    "collapsed": false
   },
   "outputs": [],
   "source": [
    "#import pdb\n",
    "\n",
    "def fordFulkerson(G, s, t):\n",
    "    Gr = np.zeros_like(G)\n",
    "    Gf = np.zeros_like(G)\n",
    "\n",
    "    Gr = G.copy()\n",
    "    while True:\n",
    "        #pdb.set_trace()\n",
    "        apath, bn = dfs(Gr, s, t)\n",
    "        if bn == math.inf:\n",
    "            break\n",
    "\n",
    "        v = apath[0]\n",
    "        for u in apath[1:]:\n",
    "            Gr[u, v] -= bn\n",
    "            Gr[v, u] += bn\n",
    "            Gf[u, v] += bn\n",
    "            v = u\n",
    "\n",
    "    return Gf"
   ]
  },
  {
   "cell_type": "code",
   "execution_count": null,
   "metadata": {
    "collapsed": false
   },
   "outputs": [],
   "source": [
    "fordFulkerson(G, 0, 6)"
   ]
  },
  {
   "cell_type": "code",
   "execution_count": null,
   "metadata": {
    "collapsed": false
   },
   "outputs": [],
   "source": [
    "%%file 1.2\n",
    "0 9 12 0 0 0 0\n",
    "0 0 6 9 4 3 0\n",
    "0 0 0 2 6 3 0\n",
    "0 0 0 0 2 0 7\n",
    "0 0 0 0 0 2 8\n",
    "0 0 0 0 0 0 5\n",
    "0 0 0 0 0 0 0"
   ]
  },
  {
   "cell_type": "code",
   "execution_count": null,
   "metadata": {
    "collapsed": false
   },
   "outputs": [],
   "source": [
    "G = np.loadtxt(\"1.2\", dtype=int, delimiter=\" \")\n",
    "G"
   ]
  },
  {
   "cell_type": "code",
   "execution_count": null,
   "metadata": {
    "collapsed": false
   },
   "outputs": [],
   "source": [
    "fordFulkerson(G, 0, 6)"
   ]
  }
 ],
 "metadata": {
  "kernelspec": {
   "display_name": "Python 3",
   "language": "python",
   "name": "python3"
  },
  "language_info": {
   "codemirror_mode": {
    "name": "ipython",
    "version": 3
   },
   "file_extension": ".py",
   "mimetype": "text/x-python",
   "name": "python",
   "nbconvert_exporter": "python",
   "pygments_lexer": "ipython3",
   "version": "3.11.0"
  },
  "vscode": {
   "interpreter": {
    "hash": "c261aea317cc0286b3b3261fbba9abdec21eaa57589985bb7a274bf54d6cc0a7"
   }
  }
 },
 "nbformat": 4,
 "nbformat_minor": 0
}
