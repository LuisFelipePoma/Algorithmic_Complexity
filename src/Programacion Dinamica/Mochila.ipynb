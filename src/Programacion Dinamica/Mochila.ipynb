{
 "cells": [
  {
   "cell_type": "code",
   "execution_count": 33,
   "metadata": {
    "collapsed": true
   },
   "outputs": [],
   "source": [
    "import numpy as np"
   ]
  },
  {
   "cell_type": "code",
   "execution_count": 2,
   "metadata": {
    "collapsed": false
   },
   "outputs": [],
   "source": [
    "def Knapsack(N,M,V,W):\n",
    "    C = [[0 if i==0 or j == 0 else -1 for i in range(N)] for j in range(M)]\n",
    "    for i in range(N):\n",
    "        for j in range(1,M):\n",
    "           if W[i] > j:\n",
    "              C[i,j]=C[i-1,j]\n",
    "           else:\n",
    "               if (V[i] + C[i-1,j-W[i]]) > C[i-1,j]:\n",
    "                  C[i,j] = V[i] + C[i-1,j-W[i-1,j]]\n",
    "               else:\n",
    "                  C[i,j] = C[i-1,j]\n",
    "    return C[N,M]"
   ]
  },
  {
   "cell_type": "code",
   "execution_count": 3,
   "metadata": {
    "collapsed": false
   },
   "outputs": [],
   "source": [
    "C = [[0 if i==0 or j == 0 else -1 for i in range(4)] for j in range(5)]"
   ]
  },
  {
   "cell_type": "markdown",
   "metadata": {
    "collapsed": false
   },
   "source": [
    "## ensambler"
   ]
  }
 ],
 "metadata": {
  "kernelspec": {
   "display_name": "Python 3",
   "language": "python",
   "name": "python3"
  },
  "language_info": {
   "codemirror_mode": {
    "name": "ipython",
    "version": 2
   },
   "file_extension": ".py",
   "mimetype": "text/x-python",
   "name": "python",
   "nbconvert_exporter": "python",
   "pygments_lexer": "ipython2",
   "version": "2.7.6"
  }
 },
 "nbformat": 4,
 "nbformat_minor": 0
}
