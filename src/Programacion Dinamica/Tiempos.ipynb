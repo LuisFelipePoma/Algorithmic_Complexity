{
 "cells": [
  {
   "cell_type": "markdown",
   "metadata": {},
   "source": [
    "$$\n",
    "F(n) =  \\begin{cases}\n",
    "0 & n = 0;\n",
    "1 & n = 1\n",
    "\\end{cases}\n",
    "$$"
   ]
  },
  {
   "cell_type": "code",
   "execution_count": null,
   "metadata": {},
   "outputs": [],
   "source": [
    "import matplotlib.pyplot as pl"
   ]
  },
  {
   "cell_type": "code",
   "execution_count": null,
   "metadata": {},
   "outputs": [],
   "source": [
    "def bestFibonacci(n):\n",
    "    t1,t2 = 0, 1\n",
    "    for i in range(n):\n",
    "        t1,t2 = t2,t1+t2\n",
    "    return t1"
   ]
  },
  {
   "cell_type": "code",
   "execution_count": null,
   "metadata": {},
   "outputs": [],
   "source": [
    "def tesIt(fun,vals=[5, 10,15,20,25]):\n",
    "    res = []\n",
    "    for n in vals:\n",
    "        x = %timeit -o fun(n)\n",
    "        res.append(sum(x.timings)/len(x.timings))\n",
    "        print(x.all_runs)\n",
    "    pl.plot(res)"
   ]
  },
  {
   "cell_type": "code",
   "execution_count": null,
   "metadata": {},
   "outputs": [],
   "source": [
    "tesIt(bestFibonacci)"
   ]
  },
  {
   "cell_type": "code",
   "execution_count": null,
   "metadata": {},
   "outputs": [],
   "source": [
    "def worstFibonacci(n):\n",
    "    if n < 2:\n",
    "        return n\n",
    "    else:\n",
    "        return worstFibonacci(n - 1) + worstFibonacci(n - 2)"
   ]
  },
  {
   "cell_type": "code",
   "execution_count": null,
   "metadata": {},
   "outputs": [],
   "source": [
    "tesIt(worstFibonacci)"
   ]
  },
  {
   "cell_type": "code",
   "execution_count": null,
   "metadata": {},
   "outputs": [],
   "source": [
    "def DPFibonacci(n): # Bottom up\n",
    "    T = [-1] * (n + 1)\n",
    "    T[0] = 0\n",
    "    T[1] = 1\n",
    "\n",
    "    def _f(x):\n",
    "        if T[x] == -1:\n",
    "            T[x] = _f(x-1) + _f(x - 2)\n",
    "        return T[x]"
   ]
  },
  {
   "cell_type": "code",
   "execution_count": null,
   "metadata": {},
   "outputs": [],
   "source": [
    "tesIt(DPFibonacci)"
   ]
  },
  {
   "cell_type": "code",
   "execution_count": null,
   "metadata": {},
   "outputs": [],
   "source": [
    "def topDownDPFibonacci(n):\n",
    "    T = [-1] * (n + 1)\n",
    "    T[0] = 0\n",
    "    T[1] = 1\n",
    "    for i in range(2, n + 1):\n",
    "        T[i] = T[i - 1] + T[i - 2]\n",
    "    return T[n]"
   ]
  },
  {
   "cell_type": "code",
   "execution_count": null,
   "metadata": {},
   "outputs": [],
   "source": [
    "tesIt(topDownDPFibonacci)"
   ]
  }
 ],
 "metadata": {
  "kernelspec": {
   "display_name": "Python 3.9.13 ('base')",
   "language": "python",
   "name": "python3"
  },
  "language_info": {
   "codemirror_mode": {
    "name": "ipython",
    "version": 3
   },
   "file_extension": ".py",
   "mimetype": "text/x-python",
   "name": "python",
   "nbconvert_exporter": "python",
   "pygments_lexer": "ipython3",
   "version": "3.9.13"
  },
  "orig_nbformat": 4,
  "vscode": {
   "interpreter": {
    "hash": "427b8541cfc07e6fbe7ab4a5298567b1b3022ff2b70fdb07d029f33f0434686a"
   }
  }
 },
 "nbformat": 4,
 "nbformat_minor": 2
}
