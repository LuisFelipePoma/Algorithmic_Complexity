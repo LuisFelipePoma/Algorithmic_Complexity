{
 "cells": [
  {
   "cell_type": "code",
   "execution_count": null,
   "metadata": {
    "collapsed": false
   },
   "outputs": [],
   "source": [
    "import matplotlib.pyplot as pl\n",
    "import math"
   ]
  },
  {
   "cell_type": "markdown",
   "metadata": {
    "collapsed": false
   },
   "source": [
    "### Greedy Coins"
   ]
  },
  {
   "cell_type": "code",
   "execution_count": null,
   "metadata": {
    "collapsed": true
   },
   "outputs": [],
   "source": [
    "def greedy_coins(mount,denominations):\n",
    "    coins = []\n",
    "    counter = 0\n",
    "    for denomination in reversed(mount):\n",
    "        if denomination <= mount:\n",
    "            while denominations <= denominations:\n",
    "                coins.append(denomination // denomination, denomination)\n",
    "                counter += coins[-1][0]\n",
    "                denominations = denominations % denomination\n",
    "    return counter,coins"
   ]
  },
  {
   "cell_type": "code",
   "execution_count": null,
   "metadata": {
    "collapsed": false
   },
   "outputs": [],
   "source": [
    "def testCoins(func,d,c = [10,20,30,40,50]):\n",
    "    res = []\n",
    "    for n in c:\n",
    "        x = %timeit -o func(n,d)\n",
    "        res.append(sum(x.timings)/len(x.timings))\n",
    "        print(x.all_runs)\n",
    "    pl.plot(res)"
   ]
  },
  {
   "cell_type": "code",
   "execution_count": null,
   "metadata": {
    "collapsed": false
   },
   "outputs": [],
   "source": [
    "d = [1,5,10,20,50]"
   ]
  },
  {
   "cell_type": "code",
   "execution_count": null,
   "metadata": {
    "collapsed": false
   },
   "outputs": [],
   "source": [
    "testCoins(greedy_coins,d)"
   ]
  },
  {
   "cell_type": "markdown",
   "metadata": {
    "collapsed": false
   },
   "source": [
    "## Naive Recursive (Divide y venceras)"
   ]
  },
  {
   "cell_type": "code",
   "execution_count": null,
   "metadata": {
    "collapsed": false
   },
   "outputs": [],
   "source": [
    "def naiveCoins (coins,d):\n",
    "    if coins == 0:\n",
    "        return 0\n",
    "    tmp = []\n",
    "    for di in d:\n",
    "        if di <= coins:\n",
    "            tmp.append(naiveCoins(coins-di,d))\n",
    "    return 1 + min(tmp)"
   ]
  },
  {
   "cell_type": "code",
   "execution_count": null,
   "metadata": {
    "collapsed": false
   },
   "outputs": [],
   "source": [
    "testCoins(naiveCoins,d)"
   ]
  },
  {
   "cell_type": "markdown",
   "metadata": {
    "collapsed": false
   },
   "source": [
    "## Dynamic Programming Coins"
   ]
  },
  {
   "cell_type": "markdown",
   "metadata": {
    "collapsed": false
   },
   "source": [
    "#### TOP DOWN"
   ]
  },
  {
   "cell_type": "code",
   "execution_count": null,
   "metadata": {
    "collapsed": false
   },
   "outputs": [],
   "source": [
    "def dpCoins (coins,d):\n",
    "    T = [-1]*(coins+1)\n",
    "    T[0] = 0\n",
    "    S = [0]*(coins+1)\n",
    "    for i in range(1,coins + 1):\n",
    "        m = math.inf\n",
    "        s = -1\n",
    "        for di in d:\n",
    "            if di > i : break\n",
    "            if T[i - di] < m:\n",
    "                m = T[i - di]\n",
    "                s = di\n",
    "        T[i] = 1 + m\n",
    "        S[i] = s\n",
    "    return T,S"
   ]
  },
  {
   "cell_type": "code",
   "execution_count": null,
   "metadata": {
    "collapsed": false
   },
   "outputs": [],
   "source": [
    "T,S = dpCoins(40,d)\n",
    "print(f\"number of coins: {T[40]}\")\n",
    "c = 40\n",
    "while c > 0:\n",
    "    print(S[c])\n",
    "    c -= S[c]"
   ]
  },
  {
   "cell_type": "code",
   "execution_count": null,
   "metadata": {
    "collapsed": false
   },
   "outputs": [],
   "source": [
    "testCoins(dpCoins,d)"
   ]
  },
  {
   "cell_type": "markdown",
   "metadata": {
    "collapsed": false
   },
   "source": [
    "#### BOTTOM UP"
   ]
  },
  {
   "cell_type": "code",
   "execution_count": null,
   "metadata": {
    "collapsed": false
   },
   "outputs": [],
   "source": [
    "def dpbuCoins(coins,d):\n",
    "    T = [-1]*(coins+1)\n",
    "    T[0] = 0\n",
    "    S = [0]*(coins+1)\n",
    "\n",
    "    def f(n):\n",
    "        m = math.inf\n",
    "        s = 0\n",
    "        for di in d:\n",
    "            if di > n: break\n",
    "            if T[n - di] == -1:\n",
    "                f(n-di)\n",
    "            if T[n-di]<m:\n",
    "                m = T[n-di]\n",
    "                s = di\n",
    "        T[n] = 1 + m\n",
    "        S[n] = s\n",
    "    return T,S"
   ]
  },
  {
   "cell_type": "code",
   "execution_count": null,
   "metadata": {
    "collapsed": false
   },
   "outputs": [],
   "source": [
    "c = 40\n",
    "T,S = dpbuCoins(c,d)\n",
    "print(T)\n",
    "print(S)"
   ]
  }
 ],
 "metadata": {
  "kernelspec": {
   "display_name": "Python 3",
   "language": "python",
   "name": "python3"
  },
  "language_info": {
   "codemirror_mode": {
    "name": "ipython",
    "version": 2
   },
   "file_extension": ".py",
   "mimetype": "text/x-python",
   "name": "python",
   "nbconvert_exporter": "python",
   "pygments_lexer": "ipython2",
   "version": "2.7.6"
  }
 },
 "nbformat": 4,
 "nbformat_minor": 0
}
