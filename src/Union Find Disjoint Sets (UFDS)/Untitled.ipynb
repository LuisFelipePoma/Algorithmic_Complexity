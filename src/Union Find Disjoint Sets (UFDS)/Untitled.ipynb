{
 "cells": [
  {
   "cell_type": "code",
   "execution_count": null,
   "id": "33898816-0a5e-4be0-9364-2513de5b3875",
   "metadata": {},
   "outputs": [],
   "source": [
    "import numpy as np"
   ]
  },
  {
   "cell_type": "code",
   "execution_count": null,
   "id": "6344aeba-24c5-424f-b039-dd18220e8133",
   "metadata": {},
   "outputs": [],
   "source": [
    "# !curl -O https://raw.githubusercontent.com/lmcanavals/acomplex/main/disjointset.py"
   ]
  },
  {
   "cell_type": "code",
   "execution_count": null,
   "id": "0306e4ed-dfff-4b74-86bd-611e4055ffa0",
   "metadata": {},
   "outputs": [],
   "source": [
    "from disjointset import DisjointSet"
   ]
  },
  {
   "cell_type": "code",
   "execution_count": null,
   "id": "d03e42d5-af44-4796-968e-b9438a6e7008",
   "metadata": {},
   "outputs": [],
   "source": [
    "class Hex:\n",
    "    EMPTY = 0\n",
    "    BLACK = 1\n",
    "    WHITE = 2\n",
    "    piece = [\"None\",\"Black\",\"White\"]\n",
    "    def __init__(self,n):\n",
    "        self.n = 5 \n",
    "        self.board = np.zeros((n,n),dtype=int)\n",
    "        # self.dswhites = np.fill((n*n+2),-1)\n",
    "        self.dswhites = DisjointSet(n*n+2)\n",
    "        self.dsblacks = DisjointSet(n*n+2)\n",
    "        for i in range(n):\n",
    "            self.dsblacks.union(n*n,i)\n",
    "            self.dsblacks.union(n*n+1,(n-1)*n+i)\n",
    "            \n",
    "            self.dswhites.union(n*n,i*n)\n",
    "            self.dswhites.union(n*n+1,i*n+n-1)\n",
    "            \n",
    "    def winner(self):\n",
    "        a = self.n * self.n\n",
    "        b = a + 1\n",
    "        if self.dsblacks.sameset(a,b):\n",
    "            return self.piece[self.BLACK]\n",
    "        if self.dsblacks.sameset(a,b):\n",
    "            return self.piece[self.WHITE]\n",
    "        return self.piece[self.EMPTY]\n",
    "    \n",
    "    def move(self,i,j,piece):\n",
    "        if self.board[i,j] != self.EMPTY:\n",
    "            return False\n",
    "        \n",
    "        self.board[i,j] = piece\n",
    "        ds = self.dsblacks if piece == self.BLACK else self.dswhites\n",
    "        nb = [(i-1,j-1),(i-1,j),(i,j-1),(i,j+1),(i+1,j),(i+1,j+1)]\n",
    "        for i0,j0 in nb:\n",
    "            if i0 < 0 or i0 >= self.n or j0 < 0 or j0 >= self.n:\n",
    "                continue\n",
    "            if self.board[i0,j0] == piece:\n",
    "                a = i * self.n + j\n",
    "                b = i0 * self.n + j0\n",
    "                ds.union(a,b)\n",
    "        return True\n",
    "    def showBoard(self):\n",
    "        for i in range(self.n):\n",
    "            print(\" \"*(self.n-i),self.board[i])\n",
    "       "
   ]
  },
  {
   "cell_type": "code",
   "execution_count": null,
   "id": "6903a448-3241-4598-ac4c-375ca9b409c8",
   "metadata": {},
   "outputs": [],
   "source": [
    "hex = Hex(5)\n",
    "hex.showBoard()"
   ]
  },
  {
   "cell_type": "code",
   "execution_count": null,
   "id": "29bcf42b-b5f2-4672-8e94-daf2e3ca5082",
   "metadata": {},
   "outputs": [],
   "source": [
    "hex.move(0,0,hex.BLACK)\n",
    "hex.showBoard()"
   ]
  },
  {
   "cell_type": "markdown",
   "id": "31ec6643-45f5-4f0e-a649-34c2c175cd02",
   "metadata": {
    "tags": []
   },
   "source": [
    "# DETECTOR DE CICLOS"
   ]
  },
  {
   "cell_type": "code",
   "execution_count": null,
   "id": "fb293b74-942b-415b-871d-9a2d3cbb7cb2",
   "metadata": {},
   "outputs": [],
   "source": [
    "def has_cycle(graph):\n",
    "    ufds = DisjointSet(len(graph))\n",
    "    for u, v in graph:\n",
    "        print(u,v)\n",
    "        if not ufds.union(u, v) :\n",
    "            return True\n",
    "    return False"
   ]
  },
  {
   "cell_type": "code",
   "execution_count": null,
   "id": "41cd0105-8c2f-4aea-ba93-76f9fbe40f65",
   "metadata": {
    "tags": []
   },
   "outputs": [],
   "source": [
    "grafo = [(0,1),(1,0)]\n",
    "has_cycle(grafo)"
   ]
  }
 ],
 "metadata": {
  "kernelspec": {
   "display_name": "Python 3 (ipykernel)",
   "language": "python",
   "name": "python3"
  },
  "language_info": {
   "codemirror_mode": {
    "name": "ipython",
    "version": 3
   },
   "file_extension": ".py",
   "mimetype": "text/x-python",
   "name": "python",
   "nbconvert_exporter": "python",
   "pygments_lexer": "ipython3",
   "version": "3.9.13"
  }
 },
 "nbformat": 4,
 "nbformat_minor": 5
}
