{
 "cells": [
  {
   "cell_type": "code",
   "execution_count": null,
   "metadata": {
    "collapsed": false,
    "jupyter": {
     "outputs_hidden": false
    }
   },
   "outputs": [],
   "source": [
    "import graphviz as gv"
   ]
  },
  {
   "cell_type": "code",
   "execution_count": null,
   "metadata": {
    "collapsed": false,
    "jupyter": {
     "outputs_hidden": false
    }
   },
   "outputs": [],
   "source": [
    "def drawTree(G):\n",
    "    g = gv.Digraph(\"nombre\")\n",
    "    n = len(G)\n",
    "    for u in range(n):\n",
    "        g.node(str(u))\n",
    "        if u != G[u]:\n",
    "            g.edge(str(u), str(G[u]))\n",
    "\n",
    "    return g"
   ]
  },
  {
   "cell_type": "markdown",
   "metadata": {},
   "source": [
    "# Quick Find"
   ]
  },
  {
   "cell_type": "code",
   "execution_count": null,
   "metadata": {
    "collapsed": false,
    "jupyter": {
     "outputs_hidden": false
    }
   },
   "outputs": [],
   "source": [
    "%%file 1.in\n",
    "0\n",
    "1\n",
    "9\n",
    "9\n",
    "9\n",
    "6\n",
    "6\n",
    "7\n",
    "8\n",
    "9"
   ]
  },
  {
   "cell_type": "markdown",
   "metadata": {},
   "source": [
    "### Lectura de datos"
   ]
  },
  {
   "cell_type": "code",
   "execution_count": null,
   "metadata": {
    "collapsed": false,
    "jupyter": {
     "outputs_hidden": false
    }
   },
   "outputs": [],
   "source": [
    "with open(\"1.in\") as file:\n",
    "    G=[]\n",
    "    for line in file:\n",
    "       G.append(int(line))\n",
    "print(G)"
   ]
  },
  {
   "cell_type": "code",
   "execution_count": null,
   "metadata": {
    "collapsed": false,
    "jupyter": {
     "outputs_hidden": false
    }
   },
   "outputs": [],
   "source": [
    "def find(G,n): ## O(1)\n",
    "    return G[n]"
   ]
  },
  {
   "cell_type": "code",
   "execution_count": null,
   "metadata": {
    "collapsed": false,
    "jupyter": {
     "outputs_hidden": false
    }
   },
   "outputs": [],
   "source": [
    "def union(G,a,b): # O(n)\n",
    "    A = find(G,a)\n",
    "    B = find(G,b)\n",
    "    if A != B:\n",
    "        for i in range(len(G)):\n",
    "            if G[i] == A:\n",
    "                G[i]=B"
   ]
  },
  {
   "cell_type": "code",
   "execution_count": null,
   "metadata": {
    "collapsed": false,
    "jupyter": {
     "outputs_hidden": false
    }
   },
   "outputs": [],
   "source": [
    "def unionAll(G,a): # O(n)\n",
    "    A = find(G,a)\n",
    "    for i in range(len(G)):\n",
    "        G[i] = A"
   ]
  },
  {
   "cell_type": "code",
   "execution_count": null,
   "metadata": {
    "collapsed": false,
    "jupyter": {
     "outputs_hidden": false
    }
   },
   "outputs": [],
   "source": [
    "# union(G,9,6)\n",
    "# print(G)\n",
    "# union(G,0,6)\n",
    "# print(G)\n",
    "# union(G,1,6)\n",
    "# print(G)\n",
    "# union(G,7,6)\n",
    "# print(G)\n",
    "# union(G,8,6)\n",
    "# print(G)"
   ]
  },
  {
   "cell_type": "code",
   "execution_count": null,
   "metadata": {
    "collapsed": false,
    "jupyter": {
     "outputs_hidden": false
    }
   },
   "outputs": [],
   "source": [
    "# unionAll(G,0)\n",
    "# print(G)"
   ]
  },
  {
   "cell_type": "markdown",
   "metadata": {},
   "source": [
    "# Quick Union"
   ]
  },
  {
   "cell_type": "code",
   "execution_count": null,
   "metadata": {
    "collapsed": false,
    "jupyter": {
     "outputs_hidden": false
    }
   },
   "outputs": [],
   "source": [
    "def find2(G,a): # O(n)\n",
    "    while G[a] != a:\n",
    "        a = G[a]\n",
    "    return a"
   ]
  },
  {
   "cell_type": "code",
   "execution_count": null,
   "metadata": {
    "collapsed": false,
    "jupyter": {
     "outputs_hidden": false
    }
   },
   "outputs": [],
   "source": [
    "def union2(G,a,b): # O(1)\n",
    "    A = find2(G,a)\n",
    "    B = find2(G,b)\n",
    "    if A != B:\n",
    "        G[A] = B"
   ]
  },
  {
   "cell_type": "code",
   "execution_count": null,
   "metadata": {
    "collapsed": false,
    "jupyter": {
     "outputs_hidden": false
    }
   },
   "outputs": [],
   "source": [
    "print(G)\n",
    "drawTree(G)"
   ]
  },
  {
   "cell_type": "code",
   "execution_count": null,
   "metadata": {
    "collapsed": false,
    "jupyter": {
     "outputs_hidden": false
    }
   },
   "outputs": [],
   "source": [
    "union2(G,2,0)\n",
    "print(G)\n",
    "drawTree(G)"
   ]
  },
  {
   "cell_type": "markdown",
   "metadata": {},
   "source": [
    "# Quick Union Ponderado\n"
   ]
  },
  {
   "cell_type": "code",
   "execution_count": null,
   "metadata": {
    "collapsed": false,
    "jupyter": {
     "outputs_hidden": false
    }
   },
   "outputs": [],
   "source": [
    "def union3(G,p,a,b):\n",
    "    A = find2(G,a)\n",
    "    B = find2(G,b)\n",
    "    if A != B:\n",
    "        if p(A) > p(B):\n",
    "            G[A] += G[B]\n",
    "            G[B] = A\n",
    "        else:\n",
    "            G[B] += G[A]\n",
    "            G[A] = B"
   ]
  }
 ],
 "metadata": {
  "kernelspec": {
   "display_name": "Python 3 (ipykernel)",
   "language": "python",
   "name": "python3"
  },
  "language_info": {
   "codemirror_mode": {
    "name": "ipython",
    "version": 3
   },
   "file_extension": ".py",
   "mimetype": "text/x-python",
   "name": "python",
   "nbconvert_exporter": "python",
   "pygments_lexer": "ipython3",
   "version": "3.9.13"
  }
 },
 "nbformat": 4,
 "nbformat_minor": 4
}
